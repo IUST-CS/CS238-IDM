{
 "cells": [
  {
   "cell_type": "markdown",
   "id": "6a47252d",
   "metadata": {},
   "source": [
    "<div style=\"direction:rtl; line-height: 2.5; font-family: 'XB Zar', sans-serif; border: 5px solid #008B8B; border-radius: 15px; margin: 20px;\"> \n",
    "\n",
    "<div style=\"font-family: arial; direction: rtl; padding: 15px 0;\">\n",
    "\n",
    "<h4 style=\"text-align: center;\">به نام خدا</h4>\n",
    "\n",
    "<h2 style=\"text-align: center; color: #103bc9;\">مقدمه‌ای بر داده‌کاوی</h2>\n",
    "\n",
    "<h3 style=\"text-align: center; color: #d42c06;\">دانشگاه علم و صنعت ایران</h3>\n",
    "    \n",
    "<h3 style=\"text-align: center; color: #d42c06;\">دانشکده ریاضی و علوم کامپیوتر</h3>\n",
    "\n",
    "<h4 style=\"padding-top: 7px; text-align: center;\">نیمسال اول سال تحصیلی ۱۴۰۳-۱۴۰۴</h4>\n",
    "\n",
    "<hr style=\"margin-top: 25px; border-color: #fff;\">\n",
    "\n",
    "<h1 style=\"text-align: center; color: #9c0000; margin-bottom: 30px;\">تمرین ۱: Principal Component Analysis</h1>\n",
    "\n",
    "<h3 style=\"text-align: center; margin-top: 20px;\">دکتر مائده السادات طاهائی</h3>\n",
    "\n",
    "<div align=\"center\" style=\"font-size: 20px; margin-top: 20px; line-height: 2;\">طراحان: علیرضا کفاشها، مهرنوش مفیدی</div>\n",
    "\n",
    "</div>\n",
    "\n",
    "</div>"
   ]
  },
  {
   "cell_type": "markdown",
   "id": "57cd8f30",
   "metadata": {},
   "source": [
    "<div style=\"font-family: arial; padding: 30px; padding-top: 15px; padding-bottom: 0;\">\n",
    "\n",
    "<hr style=\"margin-top: 25px; border-color: #fff;\">\n",
    "\n",
    "<h2 style=\"text-align: center; color: #186e00;\">بخش 1: خواندن دیتاست</h2>\n",
    "\n",
    "<hr style=\"margin-top: 25px; border-color: #fff;\">\n",
    "\n",
    "</div>"
   ]
  },
  {
   "cell_type": "markdown",
   "id": "e82680b8",
   "metadata": {},
   "source": [
    "<div style=\"font-size: 1.1em; font-family: arial; direction: rtl;\">\n",
    "<div style=\"border: 2px solid #1f49a3; border-radius: 10px; padding: 10px;\">\n",
    "<h3 style=\"color: #1f49a3; font-weight: bold;\">توضیحات</h3>\n",
    "<span style=\"color: #1f49a3;\">در زیر برای فهم بیشتر و  سادگی کار با دیتا ها توضیحاتی در مورد دیتاست داده شده آورده‌ایم</span>\n",
    "</div>\n",
    "</div>"
   ]
  },
  {
   "cell_type": "markdown",
   "id": "ad21e5b1",
   "metadata": {},
   "source": [
    "<div style=\"direction: rtl; font-size: 1.1em; font-family: arial; \">\n",
    "<span>داده‌های دیتاست داده شده یک بررسی جامع انسان‌سنجی از پرسنل ارتش ایالات متحده است.این دیتاست بین سال‌های 2010 و 2012 انجام شده و شامل اسکن‌های سه‌بعدی بدن و 93 اندازه‌گیری مستقیم برای بیش از 6000 نفر است. این داده‌ها اندازه‌گیری‌های سنتی و اسکن‌های سه‌بعدی را برای تحلیل‌های پیشرفته و نیازهای مهندسی مدرن فراهم می‌کند. این بررسی با هدف درک تغییرات در ابعاد و شکل بدن نسبت به دهه 1980 انجام شد و منبعی حیاتی برای طراحی تجهیزات نظامی و ارگونومی است. این داده‌ها یک منبع دقیق از ابعاد بدن انسان ارائه می‌دهند و برای مطالعات انسان‌سنجی و کاربردهای طراحی استفاده می‌شوند.</span>\n",
    "<hr style=\"margin-top: 25px; border-color: #fff;\">\n",
    "</div>"
   ]
  },
  {
   "cell_type": "markdown",
   "id": "3806626b",
   "metadata": {},
   "source": [
    "<div style=\"font-family: arial; direction: rtl;\">\n",
    "\n",
    "<h2 id=\"introduction\" style=\"color: #d42c06;\">تمرین صفر</h2>\n",
    "\n",
    "</div>"
   ]
  },
  {
   "cell_type": "markdown",
   "id": "f7f0a69f",
   "metadata": {},
   "source": [
    "<div style=\"direction: rtl; font-size: 1.1em; font-family: arial;\">\n",
    "<span>پکیچ های مورد نیاز را Import  کرده و دیتاست داده شده را بخوانید و 5 سطر اول آن را نمایش دهید.</span>\n",
    "<hr style=\"margin-top: 25px; border-color: #fff;\">\n",
    "</div>"
   ]
  },
  {
   "cell_type": "code",
   "execution_count": 14,
   "id": "d538d614",
   "metadata": {},
   "outputs": [],
   "source": []
  },
  {
   "cell_type": "code",
   "execution_count": 15,
   "id": "70945fed",
   "metadata": {},
   "outputs": [
    {
     "data": {
      "text/html": [
       "<div>\n",
       "<style scoped>\n",
       "    .dataframe tbody tr th:only-of-type {\n",
       "        vertical-align: middle;\n",
       "    }\n",
       "\n",
       "    .dataframe tbody tr th {\n",
       "        vertical-align: top;\n",
       "    }\n",
       "\n",
       "    .dataframe thead th {\n",
       "        text-align: right;\n",
       "    }\n",
       "</style>\n",
       "<table border=\"1\" class=\"dataframe\">\n",
       "  <thead>\n",
       "    <tr style=\"text-align: right;\">\n",
       "      <th></th>\n",
       "      <th>Branch</th>\n",
       "      <th>Component</th>\n",
       "      <th>Gender</th>\n",
       "      <th>abdominalextensiondepthsitting</th>\n",
       "      <th>acromialheight</th>\n",
       "      <th>acromionradialelength</th>\n",
       "      <th>anklecircumference</th>\n",
       "      <th>axillaheight</th>\n",
       "      <th>balloffootcircumference</th>\n",
       "      <th>balloffootlength</th>\n",
       "      <th>...</th>\n",
       "      <th>waistdepth</th>\n",
       "      <th>waistfrontlengthsitting</th>\n",
       "      <th>waistheightomphalion</th>\n",
       "      <th>wristcircumference</th>\n",
       "      <th>wristheight</th>\n",
       "      <th>weight_kg</th>\n",
       "      <th>stature_m</th>\n",
       "      <th>BMI</th>\n",
       "      <th>BMI_class</th>\n",
       "      <th>Height_class</th>\n",
       "    </tr>\n",
       "  </thead>\n",
       "  <tbody>\n",
       "    <tr>\n",
       "      <th>0</th>\n",
       "      <td>Combat Service Support</td>\n",
       "      <td>Regular Army</td>\n",
       "      <td>Male</td>\n",
       "      <td>336</td>\n",
       "      <td>1463</td>\n",
       "      <td>333</td>\n",
       "      <td>247</td>\n",
       "      <td>1343</td>\n",
       "      <td>265</td>\n",
       "      <td>205</td>\n",
       "      <td>...</td>\n",
       "      <td>284</td>\n",
       "      <td>415</td>\n",
       "      <td>1050</td>\n",
       "      <td>176</td>\n",
       "      <td>883.0</td>\n",
       "      <td>105.9</td>\n",
       "      <td>1.775</td>\n",
       "      <td>33.612378</td>\n",
       "      <td>Overweight</td>\n",
       "      <td>Tall</td>\n",
       "    </tr>\n",
       "    <tr>\n",
       "      <th>1</th>\n",
       "      <td>Combat Service Support</td>\n",
       "      <td>Army National Guard</td>\n",
       "      <td>Male</td>\n",
       "      <td>311</td>\n",
       "      <td>1523</td>\n",
       "      <td>332</td>\n",
       "      <td>249</td>\n",
       "      <td>1397</td>\n",
       "      <td>269</td>\n",
       "      <td>201</td>\n",
       "      <td>...</td>\n",
       "      <td>283</td>\n",
       "      <td>468</td>\n",
       "      <td>1074</td>\n",
       "      <td>181</td>\n",
       "      <td>908.0</td>\n",
       "      <td>108.3</td>\n",
       "      <td>1.850</td>\n",
       "      <td>31.643535</td>\n",
       "      <td>Overweight</td>\n",
       "      <td>Tall</td>\n",
       "    </tr>\n",
       "    <tr>\n",
       "      <th>2</th>\n",
       "      <td>Combat Arms</td>\n",
       "      <td>Regular Army</td>\n",
       "      <td>Male</td>\n",
       "      <td>278</td>\n",
       "      <td>1522</td>\n",
       "      <td>365</td>\n",
       "      <td>225</td>\n",
       "      <td>1413</td>\n",
       "      <td>276</td>\n",
       "      <td>222</td>\n",
       "      <td>...</td>\n",
       "      <td>233</td>\n",
       "      <td>372</td>\n",
       "      <td>1156</td>\n",
       "      <td>182</td>\n",
       "      <td>890.0</td>\n",
       "      <td>90.1</td>\n",
       "      <td>1.854</td>\n",
       "      <td>26.212312</td>\n",
       "      <td>Overweight</td>\n",
       "      <td>Tall</td>\n",
       "    </tr>\n",
       "    <tr>\n",
       "      <th>3</th>\n",
       "      <td>Combat Arms</td>\n",
       "      <td>Regular Army</td>\n",
       "      <td>Male</td>\n",
       "      <td>259</td>\n",
       "      <td>1504</td>\n",
       "      <td>347</td>\n",
       "      <td>232</td>\n",
       "      <td>1380</td>\n",
       "      <td>258</td>\n",
       "      <td>218</td>\n",
       "      <td>...</td>\n",
       "      <td>250</td>\n",
       "      <td>441</td>\n",
       "      <td>1079</td>\n",
       "      <td>189</td>\n",
       "      <td>882.0</td>\n",
       "      <td>90.0</td>\n",
       "      <td>1.828</td>\n",
       "      <td>26.933335</td>\n",
       "      <td>Overweight</td>\n",
       "      <td>Tall</td>\n",
       "    </tr>\n",
       "    <tr>\n",
       "      <th>4</th>\n",
       "      <td>Combat Arms</td>\n",
       "      <td>Regular Army</td>\n",
       "      <td>Male</td>\n",
       "      <td>251</td>\n",
       "      <td>1384</td>\n",
       "      <td>326</td>\n",
       "      <td>226</td>\n",
       "      <td>1262</td>\n",
       "      <td>255</td>\n",
       "      <td>200</td>\n",
       "      <td>...</td>\n",
       "      <td>227</td>\n",
       "      <td>355</td>\n",
       "      <td>1004</td>\n",
       "      <td>177</td>\n",
       "      <td>820.0</td>\n",
       "      <td>81.2</td>\n",
       "      <td>1.681</td>\n",
       "      <td>28.735622</td>\n",
       "      <td>Overweight</td>\n",
       "      <td>Normal</td>\n",
       "    </tr>\n",
       "  </tbody>\n",
       "</table>\n",
       "<p>5 rows × 99 columns</p>\n",
       "</div>"
      ],
      "text/plain": [
       "                   Branch            Component Gender  \\\n",
       "0  Combat Service Support         Regular Army   Male   \n",
       "1  Combat Service Support  Army National Guard   Male   \n",
       "2             Combat Arms         Regular Army   Male   \n",
       "3             Combat Arms         Regular Army   Male   \n",
       "4             Combat Arms         Regular Army   Male   \n",
       "\n",
       "   abdominalextensiondepthsitting  acromialheight  acromionradialelength  \\\n",
       "0                             336            1463                    333   \n",
       "1                             311            1523                    332   \n",
       "2                             278            1522                    365   \n",
       "3                             259            1504                    347   \n",
       "4                             251            1384                    326   \n",
       "\n",
       "   anklecircumference  axillaheight  balloffootcircumference  \\\n",
       "0                 247          1343                      265   \n",
       "1                 249          1397                      269   \n",
       "2                 225          1413                      276   \n",
       "3                 232          1380                      258   \n",
       "4                 226          1262                      255   \n",
       "\n",
       "   balloffootlength  ...  waistdepth  waistfrontlengthsitting  \\\n",
       "0               205  ...         284                      415   \n",
       "1               201  ...         283                      468   \n",
       "2               222  ...         233                      372   \n",
       "3               218  ...         250                      441   \n",
       "4               200  ...         227                      355   \n",
       "\n",
       "   waistheightomphalion  wristcircumference  wristheight  weight_kg  \\\n",
       "0                  1050                 176        883.0      105.9   \n",
       "1                  1074                 181        908.0      108.3   \n",
       "2                  1156                 182        890.0       90.1   \n",
       "3                  1079                 189        882.0       90.0   \n",
       "4                  1004                 177        820.0       81.2   \n",
       "\n",
       "   stature_m        BMI   BMI_class  Height_class  \n",
       "0      1.775  33.612378  Overweight          Tall  \n",
       "1      1.850  31.643535  Overweight          Tall  \n",
       "2      1.854  26.212312  Overweight          Tall  \n",
       "3      1.828  26.933335  Overweight          Tall  \n",
       "4      1.681  28.735622  Overweight        Normal  \n",
       "\n",
       "[5 rows x 99 columns]"
      ]
     },
     "execution_count": 15,
     "metadata": {},
     "output_type": "execute_result"
    }
   ],
   "source": []
  },
  {
   "cell_type": "markdown",
   "id": "42dc29a1",
   "metadata": {},
   "source": [
    "<div style=\"font-family: arial;\">\n",
    "\n",
    "<hr style=\"margin-top: 25px; border-color: #fff;\">\n",
    "\n",
    "<h2 style=\"text-align: center; color: #186e00;\">بخش 2: آماده سازی داده ها</h2>\n",
    "\n",
    "<hr style=\"margin-top: 25px; border-color: #fff;\">\n",
    "\n",
    "</div>"
   ]
  },
  {
   "cell_type": "markdown",
   "id": "8c55662f",
   "metadata": {},
   "source": [
    "<div style=\"font-family: arial; direction: rtl;\">\n",
    "    \n",
    "<h2 id=\"introduction\" style=\"color: #d42c06;\">تمرین اول</h2>\n",
    "\n",
    "</div>"
   ]
  },
  {
   "cell_type": "markdown",
   "id": "568c5030",
   "metadata": {},
   "source": [
    "<div style=\"direction: rtl; font-size: 1.1em; font-family: arial; \">\n",
    "<span>در دیتاست داده شده برخی از سطر های جدول در یک سری فیچر ها(عددی یا غیر عددی) مقدار آن‌ها برابر NaN میباشد برای برای حل این مشکل بهترین روش موجود را به کار ببرید و دلیل انتخاب آن را ذکر کنید.</span>\n",
    "<hr style=\"margin-top: 25px; border-color: #fff;\">\n",
    "</div>"
   ]
  },
  {
   "cell_type": "markdown",
   "id": "8958ae83",
   "metadata": {},
   "source": [
    "<div style=\"font-size: 1.1em; font-family: arial; direction: rtl; \">\n",
    "<div style=\"border: 2px solid #1f49a3; border-radius: 10px; padding: 10px; \">\n",
    "<h3 style=\"color: #1f49a3; font-weight: bold;\">نکته</h3>\n",
    "<span style=\"color: #1f49a3;\"> متود استفاده شده برای فیچر های عددی نسبت به فیچر های غیرعددی متفاوت است.</span>\n",
    "</div>\n",
    "</div>"
   ]
  },
  {
   "cell_type": "markdown",
   "id": "4dade73e",
   "metadata": {},
   "source": [
    "<div style=\"font-family: arial; direction: rtl;\">\n",
    "    \n",
    "<h2 id=\"introduction\" style=\"color: #d42c06;\"> پاسخ اول: پاسخ خود را در سلول زیر بنویسید.</h2>\n",
    "\n",
    "</div>"
   ]
  },
  {
   "cell_type": "markdown",
   "id": "34e351e5",
   "metadata": {},
   "source": [
    "<div style=\"padding: 30px; padding-top: 0; padding-bottom: 0;\">\n",
    "\n",
    "<hr style=\"border-color: #fff;\">\n",
    "\n",
    "</div>"
   ]
  },
  {
   "cell_type": "markdown",
   "id": "c00af458",
   "metadata": {},
   "source": [
    "پاسخ:"
   ]
  },
  {
   "cell_type": "code",
   "execution_count": null,
   "id": "1be9fda6",
   "metadata": {},
   "outputs": [],
   "source": []
  },
  {
   "cell_type": "markdown",
   "id": "5349b376",
   "metadata": {},
   "source": [
    "<div style=\"font-family: arial; direction: rtl;\">\n",
    "    \n",
    "<h2 id=\"introduction\" style=\"color: #d42c06;\">تمرین دوم</h2>\n",
    "\n",
    "</div>"
   ]
  },
  {
   "cell_type": "markdown",
   "id": "59277805",
   "metadata": {},
   "source": [
    "<div style=\"direction: rtl; font-size: 1.1em; font-family: arial; \">\n",
    "<span>ستون های غیر عددی را با روش های موجود به ستون های عددی تبدیل کنید(زیرا ما همیشه برای کار با مدل ها یا متود ها باید به صوردت عددی کار کنیم).</span>\n",
    "<hr style=\"margin-top: 25px; border-color: #fff;\">\n",
    "</div>"
   ]
  },
  {
   "cell_type": "code",
   "execution_count": null,
   "id": "8fcecb9a",
   "metadata": {},
   "outputs": [],
   "source": [
    "from sklearn.preprocessing import TODO\n",
    "\n",
    "encoder = TODO\n",
    "\n",
    "########################################################\n",
    "\n",
    "TODO\n",
    "\n",
    "########################################################"
   ]
  },
  {
   "cell_type": "markdown",
   "id": "c8bdd846",
   "metadata": {},
   "source": [
    "<div style=\"font-family: arial; direction: rtl;\">\n",
    "    \n",
    "<h2 id=\"introduction\" style=\"color: #d42c06;\">تمرین سوم</h2>\n",
    "\n",
    "</div>"
   ]
  },
  {
   "cell_type": "markdown",
   "id": "eba0259d",
   "metadata": {},
   "source": [
    "<div style=\"direction: rtl; font-size: 1.1em; font-family: arial; \">\n",
    "<span>برای استفاده کردن از PCA باید ویژگی(feature) های ما در مقیاس مناسبی scale شوند در سلول زیر توضیح دهید چرا و  ویژگی(feature) های داده شده را برای PCA به مقیاس درست scale کنید.</span>\n",
    "<hr style=\"margin-top: 25px; border-color: #fff;\">\n",
    "</div>"
   ]
  },
  {
   "cell_type": "markdown",
   "id": "417fef98",
   "metadata": {},
   "source": [
    "پاسخ"
   ]
  },
  {
   "cell_type": "code",
   "execution_count": 18,
   "id": "e5cbf7a9",
   "metadata": {},
   "outputs": [
    {
     "data": {
      "text/plain": [
       "array([[ 0.06456468,  0.94861402,  0.69360199, ...,  1.65977077,\n",
       "         0.68344964,  1.19735405],\n",
       "       [ 0.06456468, -1.09403675,  0.69360199, ...,  1.16784615,\n",
       "         0.68344964,  1.19735405],\n",
       "       [-1.38646682,  0.94861402,  0.69360199, ..., -0.18917031,\n",
       "         0.68344964,  1.19735405],\n",
       "       ...,\n",
       "       [-1.38646682, -1.09403675,  0.69360199, ..., -1.68584782,\n",
       "        -1.41638449,  1.19735405],\n",
       "       [-1.38646682,  0.94861402,  0.69360199, ..., -0.80111692,\n",
       "        -1.41638449,  1.19735405],\n",
       "       [ 0.06456468,  0.94861402, -1.44174904, ...,  0.61014985,\n",
       "         0.68344964,  0.162671  ]])"
      ]
     },
     "execution_count": 18,
     "metadata": {},
     "output_type": "execute_result"
    }
   ],
   "source": []
  },
  {
   "cell_type": "markdown",
   "id": "37dc8c26",
   "metadata": {},
   "source": [
    "<div style=\"font-family: arial; padding: 30px; padding-top: 15px; padding-bottom: 0;\">\n",
    "\n",
    "<hr style=\"margin-top: 25px; border-color: #fff;\">\n",
    "\n",
    "<h2 style=\"text-align: center; color: #186e00;\"> PCA :بخش سوم  </h2>\n",
    "\n",
    "<hr style=\"margin-top: 25px; border-color: #fff;\">\n",
    "\n",
    "</div>"
   ]
  },
  {
   "cell_type": "markdown",
   "id": "d5067dcc",
   "metadata": {},
   "source": [
    "<div style=\"font-family: arial; direction: rtl;\">\n",
    "    \n",
    "<h2 id=\"introduction\" style=\"color: #d42c06;\">تمرین چهارم</h2>\n",
    "\n",
    "</div>"
   ]
  },
  {
   "cell_type": "markdown",
   "id": "f0c71e63",
   "metadata": {},
   "source": [
    "<div style=\"direction: rtl; font-size: 1.1em; font-family: arial; \">\n",
    "<span>  داده‌های استاندارد شده را کاهش ابعاد دهید و واریانس توضیح داده شده توسط هر مؤلفه را محاسبه کنید.\n",
    "</span>\n",
    "<hr style=\"margin-top: 25px; border-color: #fff;\">\n",
    "</div>"
   ]
  },
  {
   "cell_type": "code",
   "execution_count": 19,
   "id": "aa934b8f",
   "metadata": {},
   "outputs": [
    {
     "data": {
      "text/plain": [
       "array([5.30308470e-01, 1.27578896e-01, 5.17688681e-02, 3.01625283e-02,\n",
       "       2.02145267e-02, 1.53042964e-02, 1.36373352e-02, 1.17985975e-02,\n",
       "       1.06975197e-02, 1.04318914e-02, 9.69285974e-03, 8.62275639e-03,\n",
       "       8.27807296e-03, 7.63674757e-03, 6.46786689e-03, 6.22474545e-03,\n",
       "       6.09810483e-03, 5.72788466e-03, 5.63950098e-03, 5.49174748e-03,\n",
       "       5.20189485e-03, 4.96393088e-03, 4.77425541e-03, 4.70049590e-03,\n",
       "       4.22485445e-03, 4.09653879e-03, 3.99120869e-03, 3.84632601e-03,\n",
       "       3.64804953e-03, 3.20733166e-03, 3.17727524e-03, 2.95668318e-03,\n",
       "       2.78069981e-03, 2.70239077e-03, 2.66092421e-03, 2.49554393e-03,\n",
       "       2.35008282e-03, 2.10310274e-03, 2.02216529e-03, 1.93749817e-03,\n",
       "       1.86334828e-03, 1.76017929e-03, 1.74486902e-03, 1.67478611e-03,\n",
       "       1.58602099e-03, 1.49743466e-03, 1.47103635e-03, 1.40294239e-03,\n",
       "       1.39674961e-03, 1.27207931e-03, 1.23011645e-03, 1.20953593e-03,\n",
       "       1.17814894e-03, 1.13982989e-03, 1.08835744e-03, 1.05132273e-03,\n",
       "       1.02538694e-03, 9.93873319e-04, 9.40747925e-04, 8.91924925e-04,\n",
       "       8.54582661e-04, 8.32354915e-04, 7.91632153e-04, 7.69809006e-04,\n",
       "       7.18118029e-04, 6.93427438e-04, 6.58418875e-04, 6.44366411e-04,\n",
       "       6.02722226e-04, 5.18736221e-04, 5.07801571e-04, 4.65453232e-04,\n",
       "       4.48199767e-04, 4.12051720e-04, 3.71886692e-04, 3.62863084e-04,\n",
       "       3.52739804e-04, 3.28367512e-04, 3.18262552e-04, 3.00709089e-04,\n",
       "       2.80130209e-04, 2.53574624e-04, 2.44522461e-04, 2.31107977e-04,\n",
       "       2.17323305e-04, 2.10820547e-04, 1.97292393e-04, 1.90572172e-04,\n",
       "       1.82697466e-04, 1.61401573e-04, 1.52906363e-04, 1.46277122e-04,\n",
       "       1.34917924e-04, 1.10914862e-04, 1.07233761e-04, 7.54481692e-05,\n",
       "       4.74649451e-05, 3.71663193e-05, 2.25657773e-05])"
      ]
     },
     "execution_count": 19,
     "metadata": {},
     "output_type": "execute_result"
    }
   ],
   "source": [
    "from sklearn.decomposition import PCA\n",
    "pca = TODO\n",
    "reduced_df = TODOO\n",
    "############################################\n",
    "\n",
    "TODO\n",
    "\n",
    "############################################"
   ]
  },
  {
   "cell_type": "markdown",
   "id": "731f85c5",
   "metadata": {},
   "source": [
    "<div style=\"font-family: arial; direction: rtl;\">\n",
    "    \n",
    "<h2 id=\"introduction\" style=\"color: #d42c06;\">تمرین پنجم</h2>\n",
    "\n",
    "</div>"
   ]
  },
  {
   "cell_type": "markdown",
   "id": "faae68ad",
   "metadata": {},
   "source": [
    "<div style=\"direction: rtl; font-size: 1.1em; font-family: arial; \">\n",
    "<span> حالا واریانس تجمعی توضیح داده شده توسط مؤلفه‌های اصلی را محاسبه کنید.\n",
    "\n",
    "\n",
    "</span>\n",
    "<hr style=\"margin-top: 25px; border-color: #fff;\">\n",
    "</div>"
   ]
  },
  {
   "cell_type": "code",
   "execution_count": 20,
   "id": "118cb1f5",
   "metadata": {},
   "outputs": [
    {
     "data": {
      "text/plain": [
       "array([0.53030847, 0.65788737, 0.70965623, 0.73981876, 0.76003329,\n",
       "       0.77533759, 0.78897492, 0.80077352, 0.81147104, 0.82190293,\n",
       "       0.83159579, 0.84021855, 0.84849662, 0.85613337, 0.86260123,\n",
       "       0.86882598, 0.87492408, 0.88065197, 0.88629147, 0.89178322,\n",
       "       0.89698511, 0.90194904, 0.9067233 , 0.91142379, 0.91564865,\n",
       "       0.91974519, 0.9237364 , 0.92758272, 0.93123077, 0.9344381 ,\n",
       "       0.93761538, 0.94057206, 0.94335276, 0.94605515, 0.94871608,\n",
       "       0.95121162, 0.9535617 , 0.95566481, 0.95768697, 0.95962447,\n",
       "       0.96148782, 0.963248  , 0.96499287, 0.96666765, 0.96825367,\n",
       "       0.96975111, 0.97122214, 0.97262509, 0.97402184, 0.97529391,\n",
       "       0.97652403, 0.97773357, 0.97891172, 0.98005155, 0.9811399 ,\n",
       "       0.98219123, 0.98321661, 0.98421049, 0.98515123, 0.98604316,\n",
       "       0.98689774, 0.9877301 , 0.98852173, 0.98929154, 0.99000966,\n",
       "       0.99070308, 0.9913615 , 0.99200587, 0.99260859, 0.99312733,\n",
       "       0.99363513, 0.99410058, 0.99454878, 0.99496083, 0.99533272,\n",
       "       0.99569558, 0.99604832, 0.99637669, 0.99669495, 0.99699566,\n",
       "       0.99727579, 0.99752937, 0.99777389, 0.998005  , 0.99822232,\n",
       "       0.99843314, 0.99863043, 0.99882101, 0.9990037 , 0.9991651 ,\n",
       "       0.99931801, 0.99946429, 0.99959921, 0.99971012, 0.99981735,\n",
       "       0.9998928 , 0.99994027, 0.99997743, 1.        ])"
      ]
     },
     "execution_count": 20,
     "metadata": {},
     "output_type": "execute_result"
    }
   ],
   "source": [
    "############################################\n",
    "\n",
    "\n",
    "TODO\n",
    "\n",
    "############################################"
   ]
  },
  {
   "cell_type": "markdown",
   "id": "af24ca78",
   "metadata": {},
   "source": [
    "<div style=\"font-family: arial; direction: rtl;\">\n",
    "    \n",
    "<h2 id=\"introduction\" style=\"color: #d42c06;\">تمرین ششم</h2>\n",
    "\n",
    "</div>"
   ]
  },
  {
   "cell_type": "markdown",
   "id": "90f94e54",
   "metadata": {},
   "source": [
    "<div style=\"direction: rtl; font-size: 1.1em; font-family: arial; \">\n",
    "<span> ماتریس مؤلفه‌های اصلی را پس از انجام تحلیل مؤلفه‌های اصلی (PCA) مشاهده کنید.\n",
    "\n",
    "\n",
    "\n",
    "\n",
    "</span>\n",
    "<hr style=\"margin-top: 25px; border-color: #fff;\">\n",
    "</div>"
   ]
  },
  {
   "cell_type": "code",
   "execution_count": 21,
   "id": "974c449b",
   "metadata": {},
   "outputs": [
    {
     "data": {
      "text/plain": [
       "array([[ 3.36221838e-02,  3.85960030e-04, -9.71923593e-02, ...,\n",
       "        -7.46105671e-02, -5.39644200e-02, -8.37615347e-02],\n",
       "       [-2.99348997e-02,  4.13342705e-03,  4.15944187e-02, ...,\n",
       "        -2.28448885e-01, -1.68675156e-01,  7.63519278e-02],\n",
       "       [ 1.31389632e-01,  1.37417500e-02, -2.51907764e-01, ...,\n",
       "         1.14015470e-02,  5.20293196e-03,  9.46043105e-02],\n",
       "       ...,\n",
       "       [-1.97796629e-03, -3.58323905e-03, -5.44321655e-03, ...,\n",
       "         2.72411991e-01, -4.97891353e-03,  8.84588473e-03],\n",
       "       [ 7.02502846e-04, -5.66204481e-04, -1.67467332e-02, ...,\n",
       "         3.28246025e-01, -3.32594641e-03,  7.91592594e-03],\n",
       "       [ 3.91004617e-04, -8.12553659e-04, -2.52590342e-02, ...,\n",
       "         4.53755019e-01, -2.65855424e-03,  4.06164303e-03]])"
      ]
     },
     "execution_count": 21,
     "metadata": {},
     "output_type": "execute_result"
    }
   ],
   "source": [
    "############################################\n",
    "\n",
    "TODO\n",
    "\n",
    "############################################"
   ]
  },
  {
   "cell_type": "markdown",
   "id": "708e67d7",
   "metadata": {},
   "source": [
    "<div style=\"font-family: arial; direction: rtl;\">\n",
    "    \n",
    "<h2 id=\"introduction\" style=\"color: #d42c06;\">تمرین هفتم</h2>\n",
    "\n",
    "</div>"
   ]
  },
  {
   "cell_type": "markdown",
   "id": "0942b8b2",
   "metadata": {},
   "source": [
    "<div style=\"direction: rtl; font-size: 1.1em; font-family: arial; \">\n",
    "<span> داده‌های استاندارد شده را با استفاده از تحلیل مؤلفه‌های اصلی (PCA) به ۲ مؤلفه کاهش دهید و نتیجه را به صورت یک DataFrame نمایش دهید.\n",
    "\n",
    "\n",
    "\n",
    "\n",
    "</span>\n",
    "<hr style=\"margin-top: 25px; border-color: #fff;\">\n",
    "</div>"
   ]
  },
  {
   "cell_type": "code",
   "execution_count": 22,
   "id": "cfc424c9",
   "metadata": {},
   "outputs": [
    {
     "data": {
      "text/html": [
       "<div>\n",
       "<style scoped>\n",
       "    .dataframe tbody tr th:only-of-type {\n",
       "        vertical-align: middle;\n",
       "    }\n",
       "\n",
       "    .dataframe tbody tr th {\n",
       "        vertical-align: top;\n",
       "    }\n",
       "\n",
       "    .dataframe thead th {\n",
       "        text-align: right;\n",
       "    }\n",
       "</style>\n",
       "<table border=\"1\" class=\"dataframe\">\n",
       "  <thead>\n",
       "    <tr style=\"text-align: right;\">\n",
       "      <th></th>\n",
       "      <th>0</th>\n",
       "      <th>1</th>\n",
       "    </tr>\n",
       "  </thead>\n",
       "  <tbody>\n",
       "    <tr>\n",
       "      <th>0</th>\n",
       "      <td>-7.536928</td>\n",
       "      <td>-5.755876</td>\n",
       "    </tr>\n",
       "    <tr>\n",
       "      <th>1</th>\n",
       "      <td>-10.739609</td>\n",
       "      <td>-2.129217</td>\n",
       "    </tr>\n",
       "    <tr>\n",
       "      <th>2</th>\n",
       "      <td>-9.719232</td>\n",
       "      <td>3.615914</td>\n",
       "    </tr>\n",
       "    <tr>\n",
       "      <th>3</th>\n",
       "      <td>-7.378654</td>\n",
       "      <td>1.684536</td>\n",
       "    </tr>\n",
       "    <tr>\n",
       "      <th>4</th>\n",
       "      <td>-0.527733</td>\n",
       "      <td>0.155173</td>\n",
       "    </tr>\n",
       "    <tr>\n",
       "      <th>...</th>\n",
       "      <td>...</td>\n",
       "      <td>...</td>\n",
       "    </tr>\n",
       "    <tr>\n",
       "      <th>6063</th>\n",
       "      <td>0.020094</td>\n",
       "      <td>5.718558</td>\n",
       "    </tr>\n",
       "    <tr>\n",
       "      <th>6064</th>\n",
       "      <td>10.013504</td>\n",
       "      <td>-1.682094</td>\n",
       "    </tr>\n",
       "    <tr>\n",
       "      <th>6065</th>\n",
       "      <td>-4.618350</td>\n",
       "      <td>10.150833</td>\n",
       "    </tr>\n",
       "    <tr>\n",
       "      <th>6066</th>\n",
       "      <td>-0.170819</td>\n",
       "      <td>2.483067</td>\n",
       "    </tr>\n",
       "    <tr>\n",
       "      <th>6067</th>\n",
       "      <td>10.152246</td>\n",
       "      <td>-4.873576</td>\n",
       "    </tr>\n",
       "  </tbody>\n",
       "</table>\n",
       "<p>6068 rows × 2 columns</p>\n",
       "</div>"
      ],
      "text/plain": [
       "              0          1\n",
       "0     -7.536928  -5.755876\n",
       "1    -10.739609  -2.129217\n",
       "2     -9.719232   3.615914\n",
       "3     -7.378654   1.684536\n",
       "4     -0.527733   0.155173\n",
       "...         ...        ...\n",
       "6063   0.020094   5.718558\n",
       "6064  10.013504  -1.682094\n",
       "6065  -4.618350  10.150833\n",
       "6066  -0.170819   2.483067\n",
       "6067  10.152246  -4.873576\n",
       "\n",
       "[6068 rows x 2 columns]"
      ]
     },
     "execution_count": 22,
     "metadata": {},
     "output_type": "execute_result"
    }
   ],
   "source": [
    "pca2 = TODO\n",
    "reduced2_df = TODO\n",
    "\n",
    "reduced2_df = TODO\n",
    "\n",
    "reduced2_df"
   ]
  },
  {
   "cell_type": "markdown",
   "id": "a450a12f",
   "metadata": {},
   "source": [
    "<div style=\"font-family: arial; direction: rtl;\">\n",
    "    \n",
    "<h2 id=\"introduction\" style=\"color: #d42c06;\">تمرین هشتم</h2>\n",
    "\n",
    "</div>"
   ]
  },
  {
   "cell_type": "markdown",
   "id": "4790cc70",
   "metadata": {},
   "source": [
    "<div style=\"direction: rtl; font-size: 1.1em; font-family: arial; \">\n",
    "<span>داده‌های استاندارد شده را به گونه‌ای کاهش دهید که ۹۰٪ واریانس کل حفظ شود و نتیجه را به صورت یک DataFrame نمایش دهید.\n",
    "\n",
    "\n",
    "\n",
    "\n",
    "</span>\n",
    "<hr style=\"margin-top: 25px; border-color: #fff;\">\n",
    "</div>"
   ]
  },
  {
   "cell_type": "code",
   "execution_count": null,
   "id": "2cd49105",
   "metadata": {},
   "outputs": [],
   "source": [
    "pca90 = TODO\n",
    "reduced90_df = TODO\n",
    "\n",
    "reduced90_df = TODO\n",
    "\n",
    "reduced90_df\n"
   ]
  },
  {
   "cell_type": "markdown",
   "id": "3f4295d6",
   "metadata": {},
   "source": [
    "<div style=\"font-size: 1.1em; font-family: arial; direction: rtl; \">\n",
    "<div style=\"border: 2px solid #1f49a3; border-radius: 10px; padding: 10px; \">\n",
    "<h3 style=\"color: #1f49a3; font-weight: bold;\">نکته</h3>\n",
    "<span style=\"color: #1f49a3;\">توضیح درباره روش Elbow\n",
    "روش Elbow یکی از تکنیک‌های متداول برای تعیین تعداد بهینه مؤلفه‌ها یا خوشه‌ها در تحلیل داده‌هاست. این روش معمولاً در زمینه‌هایی مانند کلاستربندی و کاهش ابعاد داده‌ها به کار می‌رود.\n",
    "\n",
    "در این روش، ما ابتدا مدل را با تعداد مختلفی از مؤلفه‌ها یا خوشه‌ها اجرا می‌کنیم و سپس واریانس توضیح داده شده (در PCA) یا معیارهای دیگر مانند مجموع مربعات خطا (در کلاستربندی) را محاسبه می‌کنیم. سپس این مقادیر را بر روی یک نمودار رسم می‌کنیم.\n",
    "\n",
    "نقطه \"البو\" (Elbow Point) در نمودار جایی است که کاهش واریانس یا خطا به صورت قابل توجهی کاهش می‌یابد و سپس به تدریج کاهش آن کندتر می‌شود. این نقطه نشان‌دهنده تعداد بهینه مؤلفه‌ها یا خوشه‌هاست که می‌توانند اطلاعات مفیدی از داده‌ها استخراج کنند بدون اینکه پیچیدگی غیرضروری به مدل اضافه شود.</span>\n",
    "</div>\n",
    "</div>"
   ]
  },
  {
   "cell_type": "markdown",
   "id": "62c924df",
   "metadata": {},
   "source": [
    "<div style=\"font-family: arial; direction: rtl;\">\n",
    "    \n",
    "<h2 id=\"introduction\" style=\"color: #d42c06;\">تمرین نهم</h2>\n",
    "\n",
    "</div>"
   ]
  },
  {
   "cell_type": "markdown",
   "id": "8ad88cd4",
   "metadata": {},
   "source": [
    "<div style=\"direction: rtl; font-size: 1.1em; font-family: arial; \">\n",
    "<span>مدل را بر روی داده‌های کاهش‌یافته با استفاده از PCA قرار دهید و واریانس توضیح داده شده توسط هر مؤلفه اصلی را رسم کنید و بهترین ایندکس را شناسایی کنید.\n",
    "\n",
    "\n",
    "\n",
    "</span>\n",
    "<hr style=\"margin-top: 25px; border-color: #fff;\">\n",
    "</div>"
   ]
  },
  {
   "cell_type": "code",
   "execution_count": 24,
   "id": "877b7d83",
   "metadata": {},
   "outputs": [
    {
     "data": {
      "image/png": "[encoded data removed]",
      "text/plain": [
       "<Figure size 640x480 with 1 Axes>"
      ]
     },
     "metadata": {},
     "output_type": "display_data"
    }
   ],
   "source": [
    "var = TODO\n",
    "plt.plot(var)\n",
    "plt.xlabel('Principal component index')\n",
    "plt.ylabel('Explained variance ratio')\n",
    "plt.show()\n"
   ]
  },
  {
   "cell_type": "markdown",
   "id": "6febe9d2",
   "metadata": {},
   "source": [
    "<div style=\"font-family: arial; direction: rtl;\">\n",
    "    \n",
    "<h2 id=\"conclusion\" style=\"color: #d42c06;\">جمع‌بندی</h2>\n",
    "\n",
    "</div>"
   ]
  },
  {
   "cell_type": "markdown",
   "id": "333bca89",
   "metadata": {},
   "source": [
    "<div style=\"direction: rtl; font-size: 1.1em; font-family: arial;\"> <span>در این تمرین بیشتر سعی بر روی یادآوری دستورات پایتون و کمی کار با دیتا و آشنایی با دستورات موجود PCA بود که به عنوان ابزاری برای کاهش بعد استفاده کنید و در آخر هم یک معرفی مختصری از یکی از روش های رایج در ماشین لرنینگ شد. اگر علاقه‌مند به ریاضیات بیشتر و پیاده‌سازی دستی PCA با ریاضیاتش هستید، می‌توانید به مراجع و نوتبوک‌های لینک زیر مراجعه کنید.</span> <br> <a href=\"https://github.com/SharifiZarchi/Introduction_to_Machine_Learning/tree/main/Previous_Semesters/1401_01/Jupyter_Notebooks/Chapter_02_Classical_Models\" target=\"_blank\">لینک به نوتبوک‌ها</a> <hr style=\"margin-top: 25px; border-color: #fff;\"> </div>"
   ]
  }
 ],
 "metadata": {
  "kernelspec": {
   "display_name": "Python 3 (ipykernel)",
   "language": "python",
   "name": "python3"
  },
  "language_info": {
   "codemirror_mode": {
    "name": "ipython",
    "version": 3
   },
   "file_extension": ".py",
   "mimetype": "text/x-python",
   "name": "python",
   "nbconvert_exporter": "python",
   "pygments_lexer": "ipython3",
   "version": "3.12.4"
  }
 },
 "nbformat": 4,
 "nbformat_minor": 5
}
