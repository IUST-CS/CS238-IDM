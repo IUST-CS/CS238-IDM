{
 "cells": [
  {
   "cell_type": "markdown",
   "metadata": {},
   "source": [
    "<div style=\"direction:rtl; line-height: 2.5; font-family: 'XB Zar', sans-serif; border: 5px solid #008B8B; border-radius: 15px; margin: 20px;\"> \n",
    "\n",
    "<div style=\"font-family: arial; direction: rtl; padding: 15px 0;\">\n",
    "\n",
    "<h4 style=\"text-align: center;\">به نام خدا</h4>\n",
    "\n",
    "<h2 style=\"text-align: center; color: #103bc9;\">مقدمه‌ای بر داده‌کاوی</h2>\n",
    "\n",
    "<h3 style=\"text-align: center; color: #d42c06;\">دانشگاه علم و صنعت ایران</h3>\n",
    "    \n",
    "<h3 style=\"text-align: center; color: #d42c06;\">دانشکده ریاضی و علوم کامپیوتر</h3>\n",
    "\n",
    "<h4 style=\"padding-top: 7px; text-align: center;\">نیمسال اول سال تحصیلی ۱۴۰۳-۱۴۰۴</h4>\n",
    "\n",
    "<hr style=\"margin-top: 25px; border-color: #fff;\">\n",
    "\n",
    "<h1 style=\"text-align: center; color: #9c0000; margin-bottom: 30px;\">تمرین 2: Logistic Regression</h1>\n",
    "\n",
    "<h3 style=\"text-align: center; margin-top: 20px;\">دکتر مائده السادات طاهائی</h3>\n",
    "\n",
    "<div align=\"center\" style=\"font-size: 20px; margin-top: 20px; line-height: 2;\">طراح : سینا اصغری</div>\n",
    "\n",
    "</div>\n",
    "\n",
    "</div>"
   ]
  },
  {
   "attachments": {},
   "cell_type": "markdown",
   "metadata": {},
   "source": [
    "<h1 align=center style=\"line-height:200%;font-family:vazir;color:#0099cc\">\n",
    "<font face=\"vazir\" color=\"#0099cc\">\n",
    "اهدای خون\n",
    "</font>\n",
    "</h1>\n"
   ]
  },
  {
   "attachments": {},
   "cell_type": "markdown",
   "metadata": {},
   "source": [
    "<h2 align=right style=\"line-height:200%;font-family:vazir;color:#0099cc\">\n",
    "<font face=\"vazir\" color=\"#0099cc\">\n",
    "مقدمه و صورت مسئله\n",
    "</font>\n",
    "</h2>\n",
    "\n",
    "<p dir=rtl style=\"direction: rtl; text-align: justify; line-height:200%; font-family:vazir; font-size:medium\">\n",
    "<font face=\"vazir\" size=3>\n",
    "موسسه مرکزی اهدای خون تایوان، به منظور تحلیل داده‌های خود و پیش‌بینی نیاز به خون در این کشور، اقدام به واگذاری داده‌ی خود به دانشگاه ملی تایوان کرده است. دانشگاه ملی تایوان پس از بررسی‌های ابتدایی و اعمال تغییرات گسترده و استفاده از تکنینک‌های تحلیل رفتاری، داده‌ی ابتدایی را به شکلی که در ادامه معرفی خواهد شد، تبدیل کرده است.\n",
    "    <br>\n",
    "    حال ما می‌خواهیم پیش‌بینی کنیم آیا شهروندان تایوانی در تاریخ خاصی خون اهدا می‌کنند یا خیر!\n",
    "</font>\n",
    "</p>"
   ]
  },
  {
   "attachments": {},
   "cell_type": "markdown",
   "metadata": {},
   "source": [
    "<h2 align=right style=\"line-height:200%;font-family:vazir;color:#0099cc\">\n",
    "<font face=\"vazir\" color=\"#0099cc\">\n",
    "وارد کردن کتابخانه‌های مورد نیاز\n",
    "</font>\n",
    "</h2>\n",
    "\n",
    "<p dir=rtl style=\"direction: rtl; text-align: justify; line-height:200%; font-family:vazir; font-size:medium\">\n",
    "<font face=\"vazir\" size=3>\n",
    "    ابتدا کتابخانه‌های مورد نیازتان را وارد کنید.\n",
    "</font>\n",
    "</p>"
   ]
  },
  {
   "cell_type": "code",
   "execution_count": null,
   "metadata": {},
   "outputs": [],
   "source": [
    "import pandas as pd \n",
    "import numpy as np\n",
    "from sklearn.linear_model import LogisticRegression"
   ]
  },
  {
   "attachments": {},
   "cell_type": "markdown",
   "metadata": {},
   "source": [
    "<h2 align=right style=\"line-height:200%;font-family:vazir;color:#0099cc\">\n",
    "<font face=\"vazir\" color=\"#0099cc\">\n",
    "معرفی مجموعه داده\n",
    "</font>\n",
    "</h2>\n",
    "\n",
    "<p dir=rtl style=\"direction: rtl; text-align: justify; line-height:200%; font-family:vazir; font-size:medium\">\n",
    "<font face=\"vazir\" size=3>\n",
    "    در این سوال دو مجموعه داده در اختیار داریم. توضیحات مجموعه داده آموزش را در جدول زیر مشاهده می‌کنید: \n",
    "    <br>\n",
    "    هر سطر از این مجموعه داده، اطلاعات یک شهروند را نشان می‌دهد.\n",
    "</font>\n",
    "</p>"
   ]
  },
  {
   "attachments": {},
   "cell_type": "markdown",
   "metadata": {},
   "source": [
    "<center>\n",
    "<div dir=rtl style=\"line-height:200%;font-family:vazir;font-size:medium\">\n",
    "<font face=\"vazir\" size=3>\n",
    "    \n",
    "|نام ویژگی|توضیحات|\n",
    "|:------:|:---:|\n",
    "|<code>Recency (months)</code>|تعداد ماهی که از آخرین زمان اهدای خون توسط یک شهروند می‌گذرد|\n",
    "|<code>Frequency (times)</code>|تعداد دفعاتی که در کل یک شهروند خون اهدا کرده است|\n",
    "|<code>Monetary (c.c. blood)</code>|مقدار سانتی‌متر مکعب خونی که یک شهروند تا به حال اهدا کرده است|\n",
    "|<code>Time (months)</code>|تعداد ماهی که از اولین زمان اهدای خون توسط یک شهروند می‌گذرد|\n",
    "|<code>whether he/she donated blood in March 2007</code>|آیا شهروند در مارس ۲۰۰۷ خون اهدا کرده است یا خیر (ستون هدف مسئله!)|\n",
    "    \n",
    "</font>\n",
    "</div>\n",
    "</center>"
   ]
  },
  {
   "attachments": {},
   "cell_type": "markdown",
   "metadata": {},
   "source": [
    "<h2 align=right style=\"line-height:200%;font-family:vazir;color:#0099cc\">\n",
    "<font face=\"vazir\" color=\"#0099cc\">\n",
    "خواندن مجموعه داده\n",
    "</font>\n",
    "</h2>\n",
    "\n",
    "<p dir=rtl style=\"direction: rtl; text-align: justify; line-height:200%; font-family:vazir; font-size:medium\">\n",
    "<font face=\"vazir\" size=3>\n",
    "    در ابتدا نیاز است فایل‌های مجموعه‌داده را بخوانید. نمونه‌های آموزشی در فایل <code>train.csv</code> و نمونه‌های آزمون که باید دسته‌ی آن‌ها را پیش‌بینی کنید در فایل <code>test.csv</code> ذخیره شده‌اند. اگر لازم دانستید می‌توانید به دلخواه خود بخشی از دادگان آموزشی را به عنوان دادگان اعتبارسنجی نیز جدا کنید.\n",
    "</font>\n",
    "</p>"
   ]
  },
  {
   "cell_type": "code",
   "execution_count": null,
   "metadata": {
    "execution": {
     "iopub.execute_input": "2023-02-23T18:16:54.617428Z",
     "iopub.status.busy": "2023-02-23T18:16:54.616257Z",
     "iopub.status.idle": "2023-02-23T18:16:54.621617Z",
     "shell.execute_reply": "2023-02-23T18:16:54.620549Z",
     "shell.execute_reply.started": "2023-02-23T18:16:54.617381Z"
    }
   },
   "outputs": [],
   "source": [
    "train = pd.read_csv('train.csv')\n",
    "test = pd.read_csv('test.csv')"
   ]
  },
  {
   "attachments": {},
   "cell_type": "markdown",
   "metadata": {},
   "source": [
    "<h2 align=right style=\"line-height:200%;font-family:vazir;color:#0099cc\">\n",
    "<font face=\"vazir\" color=\"#0099cc\">\n",
    "پیش‌پردازش و مهندسی ویژگی\n",
    "</font>\n",
    "</h2>\n",
    "\n",
    "\n",
    "<p dir=rtl style=\"direction: rtl;text-align: right;line-height:200%;font-family:vazir;font-size:medium\">\n",
    "<font face=\"vazir\" size=3>\n",
    "    در این سوال شما می‌توانید از هر تکنیک پیش‌پردازش/مهندسی ویژگی که آموختید، استفاده کنید.\n",
    "    <br>\n",
    "    تکنیک‌هایی که استفاده می‌کنید به شکل مستقیم مورد ارزیابی توسط سامانه داوری قرار <b>نمی‌گیرند.</b> بلکه همه آن‌ها در دقت مدل شما تاثیر خواهند گذاشت؛ بنابراین هر چه پیش‌پردازش/مهندسی ویژگی بهتری انجام دهید تا دقت مدل بهبود پیدا کند، امتیاز بیشتری از این سوال کسب خواهید کرد.\n",
    "</font>\n",
    "</p>"
   ]
  },
  {
   "cell_type": "code",
   "execution_count": null,
   "metadata": {
    "execution": {
     "iopub.execute_input": "2023-02-23T18:16:57.342678Z",
     "iopub.status.busy": "2023-02-23T18:16:57.342222Z",
     "iopub.status.idle": "2023-02-23T18:16:57.358828Z",
     "shell.execute_reply": "2023-02-23T18:16:57.357251Z",
     "shell.execute_reply.started": "2023-02-23T18:16:57.342636Z"
    }
   },
   "outputs": [],
   "source": [
    "# Do preprocessing :)\n"
   ]
  },
  {
   "attachments": {},
   "cell_type": "markdown",
   "metadata": {},
   "source": [
    "<h2 align=right style=\"line-height:200%;font-family:vazir;color:#0099cc\">\n",
    "<font face=\"vazir\" color=\"#0099cc\">\n",
    "مدل‌سازی\n",
    "</font>\n",
    "</h2>\n",
    "\n",
    "<p dir=rtl style=\"direction: rtl; text-align: justify; line-height:200%; font-family:vazir; font-size:medium\">\n",
    "<font face=\"vazir\" size=3>\n",
    "    حال که داده را پاکسازی کرده و احتمالا ویژگی‌هایی را به آن افزوده یا از آن حذف کرده‌اید، وقت آن است که مدلی آموزش دهید که بتواند متغیر هدف این مسئله را پیش‌بینی کند.\n",
    "</font>\n",
    "</p>\n",
    "\n",
    "\n",
    "<h3 align=center style=\"direction: rtl; line-height:200%;font-family:vazir;color:#0099cc\">\n",
    "<font face=\"vazir\" color=\"#cb1111\">\n",
    "    شما تنها و تنها می‌توانید از <code>LogisticRegression</code> و کتابخانه <code>scikit-learn</code> استفاده کنید. در صورت استفاده از کتابخانه یا مدل دیگری، هیچ امتیازی به شما تعلق نخواهد گرفت.\n",
    "</font>\n",
    "</h3>\n"
   ]
  },
  {
   "cell_type": "code",
   "execution_count": null,
   "metadata": {
    "execution": {
     "iopub.execute_input": "2023-02-23T18:19:04.747981Z",
     "iopub.status.busy": "2023-02-23T18:19:04.746753Z",
     "iopub.status.idle": "2023-02-23T18:19:04.756948Z",
     "shell.execute_reply": "2023-02-23T18:19:04.755484Z",
     "shell.execute_reply.started": "2023-02-23T18:19:04.747932Z"
    }
   },
   "outputs": [],
   "source": [
    "# Model Target column :)\n",
    "model = LogisticRegression()\n"
   ]
  },
  {
   "attachments": {},
   "cell_type": "markdown",
   "metadata": {},
   "source": [
    "<h3 align=right style=\"line-height:200%;font-family:vazir;color:#0099cc\">\n",
    "<font face=\"vazir\" color=\"#0099cc\">\n",
    "معیار ارزیابی\n",
    "</font>\n",
    "</h3>\n",
    "\n",
    "<p dir=rtl style=\"direction: rtl; text-align: justify; line-height:200%;font-family:vazir;font-size:medium\">\n",
    "<font face=\"vazir\" size=3>\n",
    "    برای ارزیابی عملکرد مدل خود می‌توانید از معیار <code>f1_score</code> که در حالت <i>macro</i> میانگین‌گیری می‌کند، استفاده کنید. برای استفاده در کد می‌توانید به قطعه کد زیر توجه کنید.\n",
    "    <br>\n",
    "</font>\n",
    "</p>\n",
    "\n",
    "```\n",
    "    from sklearn.metrics import f1_score\n",
    "    print(f1_score(y_true, y_pred, average='macro'))\n",
    "```\n",
    "\n",
    "\n",
    "<p dir=rtl style=\"direction: rtl; text-align: justify; line-height:200%;font-family:vazir;font-size:medium\">\n",
    "<font face=\"vazir\" size=3>\n",
    "    برای کسب اطلاعات بیشتر در مورد <code>macro f1_score</code> می توانید <a href=\"https://towardsdatascience.com/micro-macro-weighted-averages-of-f1-score-clearly-explained-b603420b292f#:~:text=The%20macro%2Daveraged%20F1%20score,regardless%20of%20their%20support%20values.&text=The%20value%20of%200.58%20we,score%20in%20our%20classification%20report.\">این لینک</a> را مطالعه کنید.\n",
    "</font>\n",
    "</p>\n",
    "\n"
   ]
  },
  {
   "cell_type": "code",
   "execution_count": null,
   "metadata": {},
   "outputs": [],
   "source": [
    "# Evaluete model :)\n"
   ]
  },
  {
   "attachments": {},
   "cell_type": "markdown",
   "metadata": {},
   "source": [
    "<h2 align=right style=\"line-height:200%;font-family:vazir;color:#0099cc\">\n",
    "<font face=\"vazir\" color=\"#0099cc\">\n",
    " پیش‌بینی برای داده تست و خروجی\n",
    "</font>\n",
    "</h2>\n",
    "\n",
    "<p dir=rtl style=\"direction: rtl;text-align: right;line-height:200%;font-family:vazir;font-size:medium\">\n",
    "<font face=\"vazir\" size=3>\n",
    "    پس از مهندسی ویژگی و مدلسازی، الگوریتمی دارید که می‌تواند شما را از متغیرهای وابسته به متغیر هدف برساند.\n",
    "    <br>\n",
    "    از این مدل برای پیش‌بینی نمونه‌های موجود در داده تست استفاده کنید و نتایج را در قالب جدول (<code>dataframe</code>) زیر آماده کنید.\n",
    "</font>\n",
    "</p>\n",
    "\n",
    "<div dir=rtl style=\"direction: rtl;text-align: right;line-height:200%;font-family:vazir;font-size:medium\">\n",
    "<font face=\"vazir\" size=3>\n",
    "    \n",
    "|ستون|توضیحات|\n",
    "|:------:|:---:|\n",
    "|prediction|آیا شهروند در مارس ۲۰۰۷ خون اهدا کرده است یا خیر|\n",
    "    \n",
    "</font>\n",
    "</div>\n",
    "\n"
   ]
  },
  {
   "attachments": {},
   "cell_type": "markdown",
   "metadata": {},
   "source": [
    "<p dir=rtl style=\"direction: rtl;text-align: right;line-height:200%;font-family:vazir;font-size:medium\">\n",
    "<font face=\"vazir\" size=3>\n",
    "    اسم دیتافریم باید <i>submission</i> باشد؛ در غیر این صورت، سامانه داوری نمی‌تواند تلاش‌ شما را ارزیابی کند.\n",
    "    <br>\n",
    "    این دیتافریم تنها شامل ۱ ستون با اسم <i>prediction</i> است و ۷۵ سطر دارد.\n",
    "    <br>\n",
    "    به ازای هر سطر موجود در دیتافریم <i>test</i> شما باید یک مقدار پیشبینی شده داشته باشید.\n",
    "    <br>\n",
    "    جدول زیر، ۵ سطر ابتدایی دیتافریم <code>submission</code> را نشان می‌دهد. البته در جواب شما، اعداد ستون <i>prediction</i> ممکن است متفاوت باشد.\n",
    "</font>\n",
    "</p>\n",
    "\n",
    "<div style=\"text-align: right;line-height:200%;font-family:vazir;font-size:medium\">\n",
    "<font face=\"vazir\" size=3>\n",
    "    \n",
    "||prediction|\n",
    "|----|-----|\n",
    "|0|0|\n",
    "|1|0|\n",
    "|2|0|\n",
    "|3|1|\n",
    "|4|0|\n",
    "\n",
    "</font>\n",
    "</div>\n",
    "\n"
   ]
  },
  {
   "cell_type": "code",
   "execution_count": null,
   "metadata": {
    "execution": {
     "iopub.execute_input": "2023-02-23T18:20:14.064978Z",
     "iopub.status.busy": "2023-02-23T18:20:14.064592Z",
     "iopub.status.idle": "2023-02-23T18:20:14.079958Z",
     "shell.execute_reply": "2023-02-23T18:20:14.078710Z",
     "shell.execute_reply.started": "2023-02-23T18:20:14.064946Z"
    }
   },
   "outputs": [],
   "source": [
    "# Predict for test data :)\n",
    "submission = pd.DataFrame()"
   ]
  },
  {
   "attachments": {},
   "cell_type": "markdown",
   "metadata": {},
   "source": [
    "<h2 align=right style=\"line-height:200%;font-family:vazir;color:#0099cc\">\n",
    "<font face=\"vazir\" color=\"#0099cc\">\n",
    "<b>سلول جواب‌ساز</b>\n",
    "</font>\n",
    "</h2>\n",
    "\n",
    "<p dir=rtl style=\"direction: rtl; text-align: justify; line-height:200%; font-family:vazir; font-size:medium\">\n",
    "<font face=\"vazir\" size=3>\n",
    "    برای ساخته‌شدن فایل <code>result.zip</code> سلول زیر را اجرا کنید.\n",
    "    <br>\n",
    "    فایل <code>result.zip</code> را در کوئرا می‌بایست آپلود کنید و منتظر نتیجه داوری بمانید!\n",
    "    <br>\n",
    "    این فایل شامل <code>submission.csv</code> ، همین نوت‌بوک که در حال کد زدن داخل آن هستید و مدل ذخیره‌شده‌ی شماست.\n",
    "</font>\n",
    "</p>"
   ]
  },
  {
   "cell_type": "code",
   "execution_count": null,
   "metadata": {},
   "outputs": [],
   "source": [
    "import zipfile\n",
    "import joblib\n",
    "\n",
    "def compress(file_names):\n",
    "    print(\"File Paths:\")\n",
    "    print(file_names)\n",
    "    compression = zipfile.ZIP_DEFLATED\n",
    "    with zipfile.ZipFile(\"result.zip\", mode=\"w\") as zf:\n",
    "        for file_name in file_names:\n",
    "            zf.write('./' + file_name, file_name, compress_type=compression)\n",
    "\n",
    "\n",
    "joblib.dump(model, 'model')\n",
    "submission.to_csv('submission.csv', index=False)\n",
    "\n",
    "file_names = ['model', 'submission.csv', 'blood_donation.ipynb']\n",
    "compress(file_names)"
   ]
  }
 ],
 "metadata": {
  "kernelspec": {
   "display_name": "Python 3 (ipykernel)",
   "language": "python",
   "name": "python3"
  },
  "language_info": {
   "codemirror_mode": {
    "name": "ipython",
    "version": 3
   },
   "file_extension": ".py",
   "mimetype": "text/x-python",
   "name": "python",
   "nbconvert_exporter": "python",
   "pygments_lexer": "ipython3",
   "version": "3.12.4"
  }
 },
 "nbformat": 4,
 "nbformat_minor": 4
}
