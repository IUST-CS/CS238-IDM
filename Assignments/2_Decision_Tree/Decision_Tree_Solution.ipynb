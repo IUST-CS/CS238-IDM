{
 "cells": [
  {
   "cell_type": "markdown",
   "id": "6a47252d",
   "metadata": {},
   "source": [
    "<div style=\"direction:rtl; line-height: 2.5; font-family: 'XB Zar', sans-serif; border: 5px solid #008B8B; border-radius: 15px; margin: 20px;\"> \n",
    "\n",
    "<div style=\"font-family: arial; direction: rtl; padding: 15px 0;\">\n",
    "\n",
    "<h4 style=\"text-align: center;\">به نام خدا</h4>\n",
    "\n",
    "<h2 style=\"text-align: center; color: #103bc9;\">مقدمه‌ای بر داده‌کاوی</h2>\n",
    "\n",
    "<h3 style=\"text-align: center; color: #d42c06;\">دانشگاه علم و صنعت ایران</h3>\n",
    "    \n",
    "<h3 style=\"text-align: center; color: #d42c06;\">دانشکده ریاضی و علوم کامپیوتر</h3>\n",
    "\n",
    "<h4 style=\"padding-top: 7px; text-align: center;\">نیمسال اول سال تحصیلی ۱۴۰۳-۱۴۰۴</h4>\n",
    "\n",
    "<hr style=\"margin-top: 25px; border-color: #fff;\">\n",
    "\n",
    "<h1 style=\"text-align: center; color: #9c0000; margin-bottom: 30px;\">تمرین 2: Decision tree</h1>\n",
    "\n",
    "<h3 style=\"text-align: center; margin-top: 20px;\">دکتر مائده السادات طاهائی</h3>\n",
    "\n",
    "<div align=\"center\" style=\"font-size: 20px; margin-top: 20px; line-height: 2;\">طراحان: علیرضا کفاشها، مهرنوش مفیدی</div>\n",
    "\n",
    "</div>\n",
    "\n",
    "</div>"
   ]
  },
  {
   "cell_type": "markdown",
   "id": "57cd8f30",
   "metadata": {},
   "source": [
    "<div style=\"font-family: arial; padding: 30px; padding-top: 15px; padding-bottom: 0;\">\n",
    "\n",
    "<hr style=\"margin-top: 25px; border-color: #fff;\">\n",
    "\n",
    "<h2 style=\"text-align: center; color: #186e00;\">بخش 1: خواندن دیتاست</h2>\n",
    "\n",
    "<hr style=\"margin-top: 25px; border-color: #fff;\">\n",
    "\n",
    "</div>"
   ]
  },
  {
   "cell_type": "markdown",
   "id": "e82680b8",
   "metadata": {},
   "source": [
    "<div style=\"font-size: 1.1em; font-family: arial; direction: rtl;\">\n",
    "<div style=\"border: 2px solid #1f49a3; border-radius: 10px; padding: 10px;\">\n",
    "<h3 style=\"color: #1f49a3; font-weight: bold;\">توضیحات</h3>\n",
    "<span style=\"color: #1f49a3;\">در زیر برای فهم بیشتر و سادگی کار با دیتا ها توضیحاتی در مورد دیتاست داده شده آورده‌ایم</span>\n",
    "</div>\n",
    "</div>"
   ]
  },
  {
   "cell_type": "markdown",
   "id": "ad21e5b1",
   "metadata": {},
   "source": [
    "<div style=\"direction: rtl; font-size: 1.1em; font-family: arial; \">\n",
    "<span> دیتاست تایتانیک یکی از معروف‌ترین دیتاست‌ها در زمینه یادگیری ماشین و تحلیل داده‌ها است. این دیتاست شامل اطلاعات مربوط به مسافران کشتی تایتانیک است که در سال 1912 در سفر اول خود به سمت نیویورک غرق شد. هدف اصلی این دیتاست پیش‌بینی بقا یا عدم بقا مسافران بر اساس ویژگی‌های مختلف آن‌ها است. </span>\n",
    "<hr style=\"margin-top: 25px; border-color: #fff;\">\n",
    "</div>"
   ]
  },
  {
   "cell_type": "markdown",
   "id": "06551641",
   "metadata": {},
   "source": [
    "<center>\n",
    "<div dir=rtl style=\"line-height:200%;font-family:vazir;font-size:medium\">\n",
    "<font face=\"vazir\" size=3>\n",
    "    \n",
    "|نام ویژگی|توضیحات|\n",
    "|:------:|:---:|\n",
    "|<code>PassengerId </code>|شناسه منحصر به فرد هر مسافر.|\n",
    "|<code>Survived</code>| نشان‌دهنده بقا یا عدم بقا (0 = عدم بقا، 1 = بقا).|\n",
    "|<code>Pclass</code>|کلاس مسافری (1 = درجه یک، 2 = درجه دو، 3 = درجه سه).|\n",
    "|<code>Name</code>| نام کامل مسافر.|\n",
    "|<code>Sex</code>|جنسیت مسافر (male یا female).|\n",
    "|<code>Age </code>|سن مسافر (می‌تواند مقادیر گمشده داشته باشد).|\n",
    "|<code>SibSp</code>|تعداد خواهر و برادر/همسران مسافر در کشتی.|\n",
    "|<code>Parch</code>|تعداد والدین/فرزندان مسافر در کشتی.|\n",
    "|<code>Ticket</code>|شماره بلیت مسافر.|\n",
    "|<code>Fare</code>|هزینه بلیت پرداخت شده.|\n",
    "|<code>Cabin</code>|شماره کابین (می‌تواند مقادیر گمشده داشته باشد).|\n",
    "|<code>Embarked</code>| بندر سوار شدن (C = Cherbourg، Q = Queenstown، S = Southampton).|\n",
    "    \n",
    "</font>\n",
    "</div>\n",
    "</center>"
   ]
  },
  {
   "cell_type": "markdown",
   "id": "3806626b",
   "metadata": {},
   "source": [
    "<div style=\"font-family: arial; direction: rtl;\">\n",
    "\n",
    "<h2 id=\"introduction\" style=\"color: #d42c06;\">تمرین صفر</h2>\n",
    "\n",
    "</div>"
   ]
  },
  {
   "cell_type": "markdown",
   "id": "f7f0a69f",
   "metadata": {},
   "source": [
    "<div style=\"direction: rtl; font-size: 1.1em; font-family: arial;\">\n",
    "<span>پکیچ های مورد نیاز را Import  کرده و دیتاست داده شده را بخوانید و 5 سطر اول آن را نمایش دهید.</span>\n",
    "<hr style=\"margin-top: 25px; border-color: #fff;\">\n",
    "</div>"
   ]
  },
  {
   "cell_type": "code",
   "execution_count": 35,
   "id": "d538d614",
   "metadata": {},
   "outputs": [],
   "source": [
    "import numpy as np\n",
    "import pandas as pd\n",
    "from sklearn.model_selection import train_test_split\n",
    "from sklearn.metrics import f1_score, confusion_matrix\n",
    "import matplotlib.pyplot as plt\n",
    "from sklearn.preprocessing import StandardScaler\n"
   ]
  },
  {
   "cell_type": "code",
   "execution_count": 36,
   "id": "70945fed",
   "metadata": {},
   "outputs": [
    {
     "data": {
      "text/html": [
       "<div>\n",
       "<style scoped>\n",
       "    .dataframe tbody tr th:only-of-type {\n",
       "        vertical-align: middle;\n",
       "    }\n",
       "\n",
       "    .dataframe tbody tr th {\n",
       "        vertical-align: top;\n",
       "    }\n",
       "\n",
       "    .dataframe thead th {\n",
       "        text-align: right;\n",
       "    }\n",
       "</style>\n",
       "<table border=\"1\" class=\"dataframe\">\n",
       "  <thead>\n",
       "    <tr style=\"text-align: right;\">\n",
       "      <th></th>\n",
       "      <th>PassengerId</th>\n",
       "      <th>Survived</th>\n",
       "      <th>Pclass</th>\n",
       "      <th>Name</th>\n",
       "      <th>Sex</th>\n",
       "      <th>Age</th>\n",
       "      <th>SibSp</th>\n",
       "      <th>Parch</th>\n",
       "      <th>Ticket</th>\n",
       "      <th>Fare</th>\n",
       "      <th>Cabin</th>\n",
       "      <th>Embarked</th>\n",
       "    </tr>\n",
       "  </thead>\n",
       "  <tbody>\n",
       "    <tr>\n",
       "      <th>0</th>\n",
       "      <td>1</td>\n",
       "      <td>0</td>\n",
       "      <td>3</td>\n",
       "      <td>Braund, Mr. Owen Harris</td>\n",
       "      <td>male</td>\n",
       "      <td>22.0</td>\n",
       "      <td>1</td>\n",
       "      <td>0</td>\n",
       "      <td>A/5 21171</td>\n",
       "      <td>7.2500</td>\n",
       "      <td>NaN</td>\n",
       "      <td>S</td>\n",
       "    </tr>\n",
       "    <tr>\n",
       "      <th>1</th>\n",
       "      <td>2</td>\n",
       "      <td>1</td>\n",
       "      <td>1</td>\n",
       "      <td>Cumings, Mrs. John Bradley (Florence Briggs Th...</td>\n",
       "      <td>female</td>\n",
       "      <td>38.0</td>\n",
       "      <td>1</td>\n",
       "      <td>0</td>\n",
       "      <td>PC 17599</td>\n",
       "      <td>71.2833</td>\n",
       "      <td>C85</td>\n",
       "      <td>C</td>\n",
       "    </tr>\n",
       "    <tr>\n",
       "      <th>2</th>\n",
       "      <td>3</td>\n",
       "      <td>1</td>\n",
       "      <td>3</td>\n",
       "      <td>Heikkinen, Miss. Laina</td>\n",
       "      <td>female</td>\n",
       "      <td>26.0</td>\n",
       "      <td>0</td>\n",
       "      <td>0</td>\n",
       "      <td>STON/O2. 3101282</td>\n",
       "      <td>7.9250</td>\n",
       "      <td>NaN</td>\n",
       "      <td>S</td>\n",
       "    </tr>\n",
       "    <tr>\n",
       "      <th>3</th>\n",
       "      <td>4</td>\n",
       "      <td>1</td>\n",
       "      <td>1</td>\n",
       "      <td>Futrelle, Mrs. Jacques Heath (Lily May Peel)</td>\n",
       "      <td>female</td>\n",
       "      <td>35.0</td>\n",
       "      <td>1</td>\n",
       "      <td>0</td>\n",
       "      <td>113803</td>\n",
       "      <td>53.1000</td>\n",
       "      <td>C123</td>\n",
       "      <td>S</td>\n",
       "    </tr>\n",
       "    <tr>\n",
       "      <th>4</th>\n",
       "      <td>5</td>\n",
       "      <td>0</td>\n",
       "      <td>3</td>\n",
       "      <td>Allen, Mr. William Henry</td>\n",
       "      <td>male</td>\n",
       "      <td>35.0</td>\n",
       "      <td>0</td>\n",
       "      <td>0</td>\n",
       "      <td>373450</td>\n",
       "      <td>8.0500</td>\n",
       "      <td>NaN</td>\n",
       "      <td>S</td>\n",
       "    </tr>\n",
       "  </tbody>\n",
       "</table>\n",
       "</div>"
      ],
      "text/plain": [
       "   PassengerId  Survived  Pclass  \\\n",
       "0            1         0       3   \n",
       "1            2         1       1   \n",
       "2            3         1       3   \n",
       "3            4         1       1   \n",
       "4            5         0       3   \n",
       "\n",
       "                                                Name     Sex   Age  SibSp  \\\n",
       "0                            Braund, Mr. Owen Harris    male  22.0      1   \n",
       "1  Cumings, Mrs. John Bradley (Florence Briggs Th...  female  38.0      1   \n",
       "2                             Heikkinen, Miss. Laina  female  26.0      0   \n",
       "3       Futrelle, Mrs. Jacques Heath (Lily May Peel)  female  35.0      1   \n",
       "4                           Allen, Mr. William Henry    male  35.0      0   \n",
       "\n",
       "   Parch            Ticket     Fare Cabin Embarked  \n",
       "0      0         A/5 21171   7.2500   NaN        S  \n",
       "1      0          PC 17599  71.2833   C85        C  \n",
       "2      0  STON/O2. 3101282   7.9250   NaN        S  \n",
       "3      0            113803  53.1000  C123        S  \n",
       "4      0            373450   8.0500   NaN        S  "
      ]
     },
     "execution_count": 36,
     "metadata": {},
     "output_type": "execute_result"
    }
   ],
   "source": [
    "df = pd.read_csv(\"Titanic.csv\")\n",
    "df.head()"
   ]
  },
  {
   "cell_type": "markdown",
   "id": "42dc29a1",
   "metadata": {},
   "source": [
    "<div style=\"font-family: arial;\">\n",
    "\n",
    "<hr style=\"margin-top: 25px; border-color: #fff;\">\n",
    "\n",
    "<h2 style=\"text-align: center; color: #186e00;\">بخش 2: آماده سازی داده ها</h2>\n",
    "\n",
    "<hr style=\"margin-top: 25px; border-color: #fff;\">\n",
    "\n",
    "</div>"
   ]
  },
  {
   "cell_type": "markdown",
   "id": "8c55662f",
   "metadata": {},
   "source": [
    "<div style=\"font-family: arial; direction: rtl;\">\n",
    "    \n",
    "<h2 id=\"introduction\" style=\"color: #d42c06;\">تمرین اول</h2>\n",
    "\n",
    "</div>"
   ]
  },
  {
   "cell_type": "markdown",
   "id": "568c5030",
   "metadata": {},
   "source": [
    "<div style=\"direction: rtl; font-size: 1.1em; font-family: arial; \">\n",
    "<span>در دیتاست داده شده برخی از سطر های جدول در یک سری فیچر ها(عددی یا غیر عددی) مقدار آن‌ها برابر NaN میباشد برای برای حل این مشکل بهترین روش موجود را به کار ببرید.</span>\n",
    "<hr style=\"margin-top: 25px; border-color: #fff;\">\n",
    "</div>"
   ]
  },
  {
   "cell_type": "markdown",
   "id": "8958ae83",
   "metadata": {},
   "source": [
    "<div style=\"font-size: 1.1em; font-family: arial; direction: rtl; \">\n",
    "<div style=\"border: 2px solid #1f49a3; border-radius: 10px; padding: 10px; \">\n",
    "<h3 style=\"color: #1f49a3; font-weight: bold;\">نکته</h3>\n",
    "<span style=\"color: #1f49a3;\"> متود استفاده شده برای فیچر های عددی نسبت به فیچر های غیرعددی متفاوت است.</span>\n",
    "</div>\n",
    "</div>"
   ]
  },
  {
   "cell_type": "markdown",
   "id": "34e351e5",
   "metadata": {},
   "source": [
    "<div style=\"padding: 30px; padding-top: 0; padding-bottom: 0;\">\n",
    "\n",
    "<hr style=\"border-color: #fff;\">\n",
    "\n",
    "</div>"
   ]
  },
  {
   "cell_type": "code",
   "execution_count": 28,
   "id": "1be9fda6",
   "metadata": {},
   "outputs": [
    {
     "data": {
      "text/plain": [
       "PassengerId      0\n",
       "Survived         0\n",
       "Pclass           0\n",
       "Name             0\n",
       "Sex              0\n",
       "Age            177\n",
       "SibSp            0\n",
       "Parch            0\n",
       "Ticket           0\n",
       "Fare             0\n",
       "Cabin          687\n",
       "Embarked         2\n",
       "dtype: int64"
      ]
     },
     "execution_count": 28,
     "metadata": {},
     "output_type": "execute_result"
    }
   ],
   "source": [
    "df.isna().sum()"
   ]
  },
  {
   "cell_type": "code",
   "execution_count": 37,
   "id": "a2db244b",
   "metadata": {},
   "outputs": [
    {
     "name": "stderr",
     "output_type": "stream",
     "text": [
      "/var/folders/8l/x5nkklhn3dx_4r6lr60lg0tc0000gn/T/ipykernel_21070/2562355590.py:1: FutureWarning: A value is trying to be set on a copy of a DataFrame or Series through chained assignment using an inplace method.\n",
      "The behavior will change in pandas 3.0. This inplace method will never work because the intermediate object on which we are setting values always behaves as a copy.\n",
      "\n",
      "For example, when doing 'df[col].method(value, inplace=True)', try using 'df.method({col: value}, inplace=True)' or df[col] = df[col].method(value) instead, to perform the operation inplace on the original object.\n",
      "\n",
      "\n",
      "  df['Age'].fillna(df['Age'].median(), inplace=True)\n",
      "/var/folders/8l/x5nkklhn3dx_4r6lr60lg0tc0000gn/T/ipykernel_21070/2562355590.py:3: FutureWarning: A value is trying to be set on a copy of a DataFrame or Series through chained assignment using an inplace method.\n",
      "The behavior will change in pandas 3.0. This inplace method will never work because the intermediate object on which we are setting values always behaves as a copy.\n",
      "\n",
      "For example, when doing 'df[col].method(value, inplace=True)', try using 'df.method({col: value}, inplace=True)' or df[col] = df[col].method(value) instead, to perform the operation inplace on the original object.\n",
      "\n",
      "\n",
      "  df['Embarked'].fillna(df['Embarked'].mode()[0], inplace=True)\n"
     ]
    },
    {
     "data": {
      "text/plain": [
       "Survived    0\n",
       "Pclass      0\n",
       "Sex         0\n",
       "Age         0\n",
       "SibSp       0\n",
       "Parch       0\n",
       "Fare        0\n",
       "Embarked    0\n",
       "dtype: int64"
      ]
     },
     "execution_count": 37,
     "metadata": {},
     "output_type": "execute_result"
    }
   ],
   "source": [
    "\n",
    "df['Age'].fillna(df['Age'].median(), inplace=True)\n",
    "df.drop(['Cabin','Ticket','Name','PassengerId'], axis=1, inplace=True)\n",
    "df['Embarked'].fillna(df['Embarked'].mode()[0], inplace=True)\n",
    "\n",
    "df.isna().sum()"
   ]
  },
  {
   "cell_type": "markdown",
   "id": "5349b376",
   "metadata": {},
   "source": [
    "<div style=\"font-family: arial; direction: rtl;\">\n",
    "    \n",
    "<h2 id=\"introduction\" style=\"color: #d42c06;\">تمرین دوم</h2>\n",
    "\n",
    "</div>"
   ]
  },
  {
   "cell_type": "markdown",
   "id": "59277805",
   "metadata": {},
   "source": [
    "<div style=\"direction: rtl; font-size: 1.1em; font-family: arial; \">\n",
    "<span>ستون های غیر عددی را با روش های موجود به ستون های عددی تبدیل کنید(زیرا ما همیشه برای کار با مدل ها یا متود ها باید به صوردت عددی کار کنیم) و همچنین ستون های غیرضروری را حذف کنید.</span>\n",
    "<hr style=\"margin-top: 25px; border-color: #fff;\">\n",
    "</div>"
   ]
  },
  {
   "cell_type": "code",
   "execution_count": 39,
   "id": "8fcecb9a",
   "metadata": {},
   "outputs": [
    {
     "data": {
      "text/plain": [
       "Index(['Survived', 'Pclass', 'Sex', 'Age', 'SibSp', 'Parch', 'Fare',\n",
       "       'Embarked_Q', 'Embarked_S'],\n",
       "      dtype='object')"
      ]
     },
     "execution_count": 39,
     "metadata": {},
     "output_type": "execute_result"
    }
   ],
   "source": [
    "df = pd.get_dummies(df, columns=['Embarked'], prefix='Embarked', drop_first=True)\n",
    "df['Sex'] = df['Sex'].map({'male': 0, 'female': 1})\n",
    "\n",
    "df.columns\n"
   ]
  },
  {
   "cell_type": "markdown",
   "id": "c8bdd846",
   "metadata": {},
   "source": [
    "<div style=\"font-family: arial; direction: rtl;\">\n",
    "    \n",
    "<h2 id=\"introduction\" style=\"color: #d42c06;\">تمرین سوم</h2>\n",
    "\n",
    "</div>"
   ]
  },
  {
   "cell_type": "markdown",
   "id": "eba0259d",
   "metadata": {},
   "source": [
    "<div style=\"direction: rtl; font-size: 1.1em; font-family: arial; \">\n",
    "<span>     داده ها را به دو بخش برای مجموعه های آموزشی و اعتبارسنجی تقسیم کنید (train,test)   </span>\n",
    "<hr style=\"margin-top: 25px; border-color: #fff;\">\n",
    "</div>"
   ]
  },
  {
   "cell_type": "code",
   "execution_count": 40,
   "id": "e5cbf7a9",
   "metadata": {},
   "outputs": [],
   "source": [
    "X = df.drop(['Survived'], axis=1).values\n",
    "y = df['Survived'].values\n",
    "\n",
    "X_train, X_test, y_train, y_test = train_test_split(X, y, test_size=0.3, random_state=42)"
   ]
  },
  {
   "cell_type": "code",
   "execution_count": 42,
   "id": "f9eec611",
   "metadata": {},
   "outputs": [
    {
     "data": {
      "text/html": [
       "<div>\n",
       "<style scoped>\n",
       "    .dataframe tbody tr th:only-of-type {\n",
       "        vertical-align: middle;\n",
       "    }\n",
       "\n",
       "    .dataframe tbody tr th {\n",
       "        vertical-align: top;\n",
       "    }\n",
       "\n",
       "    .dataframe thead th {\n",
       "        text-align: right;\n",
       "    }\n",
       "</style>\n",
       "<table border=\"1\" class=\"dataframe\">\n",
       "  <thead>\n",
       "    <tr style=\"text-align: right;\">\n",
       "      <th></th>\n",
       "      <th>Survived</th>\n",
       "      <th>Pclass</th>\n",
       "      <th>Sex</th>\n",
       "      <th>Age</th>\n",
       "      <th>SibSp</th>\n",
       "      <th>Parch</th>\n",
       "      <th>Fare</th>\n",
       "      <th>Embarked_Q</th>\n",
       "      <th>Embarked_S</th>\n",
       "    </tr>\n",
       "  </thead>\n",
       "  <tbody>\n",
       "    <tr>\n",
       "      <th>0</th>\n",
       "      <td>0</td>\n",
       "      <td>0</td>\n",
       "      <td>0</td>\n",
       "      <td>0</td>\n",
       "      <td>0</td>\n",
       "      <td>0</td>\n",
       "      <td>0</td>\n",
       "      <td>0</td>\n",
       "      <td>1</td>\n",
       "    </tr>\n",
       "    <tr>\n",
       "      <th>1</th>\n",
       "      <td>1</td>\n",
       "      <td>-1</td>\n",
       "      <td>1</td>\n",
       "      <td>0</td>\n",
       "      <td>0</td>\n",
       "      <td>0</td>\n",
       "      <td>0</td>\n",
       "      <td>0</td>\n",
       "      <td>0</td>\n",
       "    </tr>\n",
       "    <tr>\n",
       "      <th>2</th>\n",
       "      <td>1</td>\n",
       "      <td>0</td>\n",
       "      <td>1</td>\n",
       "      <td>0</td>\n",
       "      <td>0</td>\n",
       "      <td>0</td>\n",
       "      <td>0</td>\n",
       "      <td>0</td>\n",
       "      <td>1</td>\n",
       "    </tr>\n",
       "    <tr>\n",
       "      <th>3</th>\n",
       "      <td>1</td>\n",
       "      <td>-1</td>\n",
       "      <td>1</td>\n",
       "      <td>0</td>\n",
       "      <td>0</td>\n",
       "      <td>0</td>\n",
       "      <td>0</td>\n",
       "      <td>0</td>\n",
       "      <td>1</td>\n",
       "    </tr>\n",
       "    <tr>\n",
       "      <th>4</th>\n",
       "      <td>0</td>\n",
       "      <td>0</td>\n",
       "      <td>0</td>\n",
       "      <td>0</td>\n",
       "      <td>0</td>\n",
       "      <td>0</td>\n",
       "      <td>0</td>\n",
       "      <td>0</td>\n",
       "      <td>1</td>\n",
       "    </tr>\n",
       "    <tr>\n",
       "      <th>...</th>\n",
       "      <td>...</td>\n",
       "      <td>...</td>\n",
       "      <td>...</td>\n",
       "      <td>...</td>\n",
       "      <td>...</td>\n",
       "      <td>...</td>\n",
       "      <td>...</td>\n",
       "      <td>...</td>\n",
       "      <td>...</td>\n",
       "    </tr>\n",
       "    <tr>\n",
       "      <th>886</th>\n",
       "      <td>0</td>\n",
       "      <td>0</td>\n",
       "      <td>0</td>\n",
       "      <td>0</td>\n",
       "      <td>0</td>\n",
       "      <td>0</td>\n",
       "      <td>0</td>\n",
       "      <td>0</td>\n",
       "      <td>1</td>\n",
       "    </tr>\n",
       "    <tr>\n",
       "      <th>887</th>\n",
       "      <td>1</td>\n",
       "      <td>-1</td>\n",
       "      <td>1</td>\n",
       "      <td>0</td>\n",
       "      <td>0</td>\n",
       "      <td>0</td>\n",
       "      <td>0</td>\n",
       "      <td>0</td>\n",
       "      <td>1</td>\n",
       "    </tr>\n",
       "    <tr>\n",
       "      <th>888</th>\n",
       "      <td>0</td>\n",
       "      <td>0</td>\n",
       "      <td>1</td>\n",
       "      <td>0</td>\n",
       "      <td>0</td>\n",
       "      <td>2</td>\n",
       "      <td>0</td>\n",
       "      <td>0</td>\n",
       "      <td>1</td>\n",
       "    </tr>\n",
       "    <tr>\n",
       "      <th>889</th>\n",
       "      <td>1</td>\n",
       "      <td>-1</td>\n",
       "      <td>0</td>\n",
       "      <td>0</td>\n",
       "      <td>0</td>\n",
       "      <td>0</td>\n",
       "      <td>0</td>\n",
       "      <td>0</td>\n",
       "      <td>0</td>\n",
       "    </tr>\n",
       "    <tr>\n",
       "      <th>890</th>\n",
       "      <td>0</td>\n",
       "      <td>0</td>\n",
       "      <td>0</td>\n",
       "      <td>0</td>\n",
       "      <td>0</td>\n",
       "      <td>0</td>\n",
       "      <td>0</td>\n",
       "      <td>1</td>\n",
       "      <td>0</td>\n",
       "    </tr>\n",
       "  </tbody>\n",
       "</table>\n",
       "<p>891 rows × 9 columns</p>\n",
       "</div>"
      ],
      "text/plain": [
       "     Survived  Pclass  Sex  Age  SibSp  Parch  Fare  Embarked_Q  Embarked_S\n",
       "0           0       0    0    0      0      0     0           0           1\n",
       "1           1      -1    1    0      0      0     0           0           0\n",
       "2           1       0    1    0      0      0     0           0           1\n",
       "3           1      -1    1    0      0      0     0           0           1\n",
       "4           0       0    0    0      0      0     0           0           1\n",
       "..        ...     ...  ...  ...    ...    ...   ...         ...         ...\n",
       "886         0       0    0    0      0      0     0           0           1\n",
       "887         1      -1    1    0      0      0     0           0           1\n",
       "888         0       0    1    0      0      2     0           0           1\n",
       "889         1      -1    0    0      0      0     0           0           0\n",
       "890         0       0    0    0      0      0     0           1           0\n",
       "\n",
       "[891 rows x 9 columns]"
      ]
     },
     "execution_count": 42,
     "metadata": {},
     "output_type": "execute_result"
    }
   ],
   "source": [
    "features_to_scale = ['Pclass', 'Age', 'SibSp', 'Parch', 'Fare']\n",
    "scaler = StandardScaler()\n",
    "df[features_to_scale] = scaler.fit_transform(df[features_to_scale])\n",
    "df = df.astype(int)\n",
    "df\n"
   ]
  },
  {
   "cell_type": "markdown",
   "id": "37dc8c26",
   "metadata": {},
   "source": [
    "<div style=\"font-family: arial; padding: 30px; padding-top: 15px; padding-bottom: 0;\">\n",
    "\n",
    "<hr style=\"margin-top: 25px; border-color: #fff;\">\n",
    "\n",
    "<h2 style=\"text-align: center; color: #186e00;\"> Decision Tree :بخش سوم  </h2>\n",
    "\n",
    "<hr style=\"margin-top: 25px; border-color: #fff;\">\n",
    "\n",
    "</div>"
   ]
  },
  {
   "cell_type": "markdown",
   "id": "d5067dcc",
   "metadata": {},
   "source": [
    "<div style=\"font-family: arial; direction: rtl;\">\n",
    "    \n",
    "<h2 id=\"introduction\" style=\"color: #d42c06;\">تمرین چهارم</h2>\n",
    "\n",
    "</div>"
   ]
  },
  {
   "cell_type": "markdown",
   "id": "f0c71e63",
   "metadata": {},
   "source": [
    "<div style=\"direction: rtl; font-size: 1.1em; font-family: arial; \">\n",
    "<span>        مقایسه جینی و انتروپی\n",
    "در این تمرین، هدف بررسی تاثیر معیارهای جینی و انتروپی در تقسیم گره‌های درخت تصمیم است. با پیاده‌سازی این معیارها و انتخاب هر کدام از آن‌ها برای یک مدل جداگانه، سپس از ماتریس درهم‌ریختگی و معیار F1 برای ارزیابی و مقایسه نتایج استفاده کنید.\n",
    "\n",
    " گام‌ها\n",
    "1. معیارهای `gini` و `entropy` را پیاده‌سازی کنید.\n",
    "2. دو درخت تصمیم بسازید: یکی با معیار جینی و دیگری با معیار انتروپی.\n",
    "3. پیش‌بینی مدل‌ها را با استفاده از ماتریس درهم‌ریختگی و F1 score مقایسه کنید.   \n",
    "</span>\n",
    "<hr style=\"margin-top: 25px; border-color: #fff;\">\n",
    "</div>"
   ]
  },
  {
   "cell_type": "code",
   "execution_count": 43,
   "id": "aa934b8f",
   "metadata": {},
   "outputs": [],
   "source": [
    "import numpy as np\n",
    "def gini(y):\n",
    "    _, counts = np.unique(y, return_counts=True)\n",
    "    probs = counts / len(y)\n",
    "    return 1 - np.sum(probs ** 2)\n",
    "\n",
    "def entropy(y):\n",
    "    _, counts = np.unique(y, return_counts=True)\n",
    "    probs = counts / len(y)\n",
    "    return -np.sum([p * np.log2(p) for p in probs if p > 0])\n",
    "\n",
    "# Find the best split function\n",
    "def best_split(X, y, criterion):\n",
    "    best_impurity = float(\"inf\")\n",
    "    best_feature, best_threshold = None, None\n",
    "    n_samples, n_features = X.shape\n",
    "    \n",
    "    for feature in range(n_features):\n",
    "        thresholds = np.unique(X[:, feature])\n",
    "        for threshold in thresholds:\n",
    "            left_mask = X[:, feature] < threshold\n",
    "            right_mask = ~left_mask\n",
    "            if len(y[left_mask]) == 0 or len(y[right_mask]) == 0:\n",
    "                continue\n",
    "            impurity = (len(y[left_mask]) * criterion(y[left_mask]) + len(y[right_mask]) * criterion(y[right_mask])) / len(y)\n",
    "            if impurity < best_impurity:\n",
    "                best_impurity, best_feature, best_threshold = impurity, feature, threshold\n",
    "    return best_feature, best_threshold"
   ]
  },
  {
   "cell_type": "code",
   "execution_count": 46,
   "id": "9fb7785b",
   "metadata": {},
   "outputs": [],
   "source": [
    "def build_tree(X, y, max_depth, criterion, depth=0):\n",
    "    if depth >= max_depth or len(np.unique(y)) == 1:\n",
    "        return np.bincount(y).argmax()\n",
    "\n",
    "    feature, threshold = best_split(X, y, criterion)\n",
    "    if feature is None:\n",
    "        return np.bincount(y).argmax()\n",
    "\n",
    "    left_mask = X[:, feature] < threshold\n",
    "    right_mask = ~left_mask\n",
    "    left_subtree = build_tree(X[left_mask], y[left_mask], max_depth, criterion, depth + 1)\n",
    "    right_subtree = build_tree(X[right_mask], y[right_mask], max_depth, criterion, depth + 1)\n",
    "\n",
    "    return {\"feature\": feature, \"threshold\": threshold, \"left\": left_subtree, \"right\": right_subtree}\n",
    "\n",
    "def predict_single(x, tree):\n",
    "    if not isinstance(tree, dict):\n",
    "        return tree\n",
    "    if x[tree[\"feature\"]] < tree[\"threshold\"]:\n",
    "        return predict_single(x, tree[\"left\"])\n",
    "    else:\n",
    "        return predict_single(x, tree[\"right\"])\n",
    "\n",
    "def predict(X, tree):\n",
    "    return [predict_single(x, tree) for x in X]"
   ]
  },
  {
   "cell_type": "code",
   "execution_count": 47,
   "id": "26138eec",
   "metadata": {},
   "outputs": [
    {
     "name": "stdout",
     "output_type": "stream",
     "text": [
      "F1 Score with Gini: 0.7536231884057971\n",
      "F1 Score with Entropy: 0.7536231884057971\n",
      "Confusion Matrix with Gini:\n",
      " [[139  18]\n",
      " [ 33  78]]\n",
      "Confusion Matrix with Entropy:\n",
      " [[139  18]\n",
      " [ 33  78]]\n"
     ]
    }
   ],
   "source": [
    "tree_gini = build_tree(X_train, y_train, max_depth=3, criterion=gini)\n",
    "tree_entropy = build_tree(X_train, y_train, max_depth=3, criterion=entropy)\n",
    "\n",
    "\n",
    "y_pred_gini = predict(X_test, tree_gini)\n",
    "y_pred_entropy = predict(X_test, tree_entropy)\n",
    "\n",
    "\n",
    "f1_gini = f1_score(y_test, y_pred_gini)\n",
    "f1_entropy = f1_score(y_test, y_pred_entropy)\n",
    "\n",
    "print(\"F1 Score with Gini:\", f1_gini)\n",
    "print(\"F1 Score with Entropy:\", f1_entropy)\n",
    "\n",
    "\n",
    "print(\"Confusion Matrix with Gini:\\n\", confusion_matrix(y_test, y_pred_gini))\n",
    "print(\"Confusion Matrix with Entropy:\\n\", confusion_matrix(y_test, y_pred_entropy))"
   ]
  },
  {
   "cell_type": "markdown",
   "id": "731f85c5",
   "metadata": {},
   "source": [
    "<div style=\"font-family: arial; direction: rtl;\">\n",
    "    \n",
    "<h2 id=\"introduction\" style=\"color: #d42c06;\">تمرین پنجم</h2>\n",
    "\n",
    "</div>"
   ]
  },
  {
   "cell_type": "markdown",
   "id": "faae68ad",
   "metadata": {},
   "source": [
    "<div style=\"direction: rtl; font-size: 1.1em; font-family: arial; \">\n",
    "<span>   بررسی تاثیر حداکثر عمق درخت\n",
    "هدف این تمرین بررسی میزان اورفیتینگ و آندر فیتینگ با تغییر حداکثر عمق درخت تصمیم است.\n",
    "\n",
    "1. پارامتر `max_depth` را با مقادیر مختلف (مثلاً بین ۱ تا ۱۰) تنظیم کنید.\n",
    "2. هر بار مدل را روی داده‌های آموزشی آموزش داده و روی داده‌های تست ارزیابی کنید.\n",
    "3. با استفاده از متریک F1، کارایی هر مدل را مقایسه کنید و نتیجه‌گیری کنید که کدام عمق برای این داده‌ها بهینه است.\n",
    "4. نموداری از F1 Score بر حسب `max_depth` رسم کنید تا مشاهده کنید که در کدام عمق مدل اورفیت یا آندر فیت می‌شود.\n",
    "\n",
    "\n",
    "</span>\n",
    "<hr style=\"margin-top: 25px; border-color: #fff;\">\n",
    "</div>"
   ]
  },
  {
   "cell_type": "code",
   "execution_count": 49,
   "id": "118cb1f5",
   "metadata": {},
   "outputs": [
    {
     "data": {
      "image/png": "[encoded data removed]",
      "text/plain": [
       "<Figure size 640x480 with 1 Axes>"
      ]
     },
     "metadata": {},
     "output_type": "display_data"
    }
   ],
   "source": [
    "depths = range(1, 11)\n",
    "f1_scores_gini = []\n",
    "f1_scores_entropy = []\n",
    "\n",
    "for depth in depths:\n",
    "    tree_gini = build_tree(X_train, y_train, max_depth=depth, criterion=gini)\n",
    "    tree_entropy = build_tree(X_train, y_train, max_depth=depth, criterion=entropy)\n",
    "    y_pred_gini = predict(X_test, tree_gini)\n",
    "    y_pred_entropy = predict(X_test, tree_entropy)\n",
    "    f1_scores_gini.append(f1_score(y_test, y_pred_gini))\n",
    "    f1_scores_entropy.append(f1_score(y_test, y_pred_entropy))\n",
    "plt.plot(depths, f1_scores_gini, label=\"Gini\")\n",
    "plt.plot(depths, f1_scores_entropy, label=\"Entropy\")\n",
    "plt.xlabel(\"Tree Depth\")\n",
    "plt.ylabel(\"F1 Score\")\n",
    "plt.title(\"F1 Score vs. Tree Depth\")\n",
    "plt.legend()\n",
    "plt.show()"
   ]
  }
 ],
 "metadata": {
  "kernelspec": {
   "display_name": "Python 3.12.2 ('base')",
   "language": "python",
   "name": "python3"
  },
  "language_info": {
   "codemirror_mode": {
    "name": "ipython",
    "version": 3
   },
   "file_extension": ".py",
   "mimetype": "text/x-python",
   "name": "python",
   "nbconvert_exporter": "python",
   "pygments_lexer": "ipython3",
   "version": "3.12.2"
  },
  "vscode": {
   "interpreter": {
    "hash": "40d3a090f54c6569ab1632332b64b2c03c39dcf918b08424e98f38b5ae0af88f"
   }
  }
 },
 "nbformat": 4,
 "nbformat_minor": 5
}
