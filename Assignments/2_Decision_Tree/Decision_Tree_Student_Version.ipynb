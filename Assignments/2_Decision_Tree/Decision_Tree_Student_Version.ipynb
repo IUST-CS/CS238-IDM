{
 "cells": [
  {
   "cell_type": "markdown",
   "id": "6a47252d",
   "metadata": {},
   "source": [
    "<div style=\"direction:rtl; line-height: 2.5; font-family: 'XB Zar', sans-serif; border: 5px solid #008B8B; border-radius: 15px; margin: 20px;\"> \n",
    "\n",
    "<div style=\"font-family: arial; direction: rtl; padding: 15px 0;\">\n",
    "\n",
    "<h4 style=\"text-align: center;\">به نام خدا</h4>\n",
    "\n",
    "<h2 style=\"text-align: center; color: #103bc9;\">مقدمه‌ای بر داده‌کاوی</h2>\n",
    "\n",
    "<h3 style=\"text-align: center; color: #d42c06;\">دانشگاه علم و صنعت ایران</h3>\n",
    "    \n",
    "<h3 style=\"text-align: center; color: #d42c06;\">دانشکده ریاضی و علوم کامپیوتر</h3>\n",
    "\n",
    "<h4 style=\"padding-top: 7px; text-align: center;\">نیمسال اول سال تحصیلی ۱۴۰۳-۱۴۰۴</h4>\n",
    "\n",
    "<hr style=\"margin-top: 25px; border-color: #fff;\">\n",
    "\n",
    "<h1 style=\"text-align: center; color: #9c0000; margin-bottom: 30px;\">تمرین 2: Decision tree</h1>\n",
    "\n",
    "<h3 style=\"text-align: center; margin-top: 20px;\">دکتر مائده السادات طاهائی</h3>\n",
    "\n",
    "<div align=\"center\" style=\"font-size: 20px; margin-top: 20px; line-height: 2;\">طراحان: علیرضا کفاشها، مهرنوش مفیدی</div>\n",
    "\n",
    "</div>\n",
    "\n",
    "</div>"
   ]
  },
  {
   "cell_type": "markdown",
   "id": "57cd8f30",
   "metadata": {},
   "source": [
    "<div style=\"font-family: arial; padding: 30px; padding-top: 15px; padding-bottom: 0;\">\n",
    "\n",
    "<hr style=\"margin-top: 25px; border-color: #fff;\">\n",
    "\n",
    "<h2 style=\"text-align: center; color: #186e00;\">بخش 1: خواندن دیتاست</h2>\n",
    "\n",
    "<hr style=\"margin-top: 25px; border-color: #fff;\">\n",
    "\n",
    "</div>"
   ]
  },
  {
   "cell_type": "markdown",
   "id": "e82680b8",
   "metadata": {},
   "source": [
    "<div style=\"font-size: 1.1em; font-family: arial; direction: rtl;\">\n",
    "<div style=\"border: 2px solid #1f49a3; border-radius: 10px; padding: 10px;\">\n",
    "<h3 style=\"color: #1f49a3; font-weight: bold;\">توضیحات</h3>\n",
    "<span style=\"color: #1f49a3;\">در زیر برای فهم بیشتر و سادگی کار با دیتا ها توضیحاتی در مورد دیتاست داده شده آورده‌ایم</span>\n",
    "</div>\n",
    "</div>"
   ]
  },
  {
   "cell_type": "markdown",
   "id": "ad21e5b1",
   "metadata": {},
   "source": [
    "<div style=\"direction: rtl; font-size: 1.1em; font-family: arial; \">\n",
    "<span> دیتاست تایتانیک یکی از معروف‌ترین دیتاست‌ها در زمینه یادگیری ماشین و تحلیل داده‌ها است. این دیتاست شامل اطلاعات مربوط به مسافران کشتی تایتانیک است که در سال 1912 در سفر اول خود به سمت نیویورک غرق شد. هدف اصلی این دیتاست پیش‌بینی بقا یا عدم بقا مسافران بر اساس ویژگی‌های مختلف آن‌ها است. </span>\n",
    "<hr style=\"margin-top: 25px; border-color: #fff;\">\n",
    "</div>"
   ]
  },
  {
   "cell_type": "markdown",
   "id": "06551641",
   "metadata": {},
   "source": [
    "<center>\n",
    "<div dir=rtl style=\"line-height:200%;font-family:vazir;font-size:medium\">\n",
    "<font face=\"vazir\" size=3>\n",
    "    \n",
    "|نام ویژگی|توضیحات|\n",
    "|:------:|:---:|\n",
    "|<code>PassengerId </code>|شناسه منحصر به فرد هر مسافر.|\n",
    "|<code>Survived</code>| نشان‌دهنده بقا یا عدم بقا (0 = عدم بقا، 1 = بقا).|\n",
    "|<code>Pclass</code>|کلاس مسافری (1 = درجه یک، 2 = درجه دو، 3 = درجه سه).|\n",
    "|<code>Name</code>| نام کامل مسافر.|\n",
    "|<code>Sex</code>|جنسیت مسافر (male یا female).|\n",
    "|<code>Age </code>|سن مسافر (می‌تواند مقادیر گمشده داشته باشد).|\n",
    "|<code>SibSp</code>|تعداد خواهر و برادر/همسران مسافر در کشتی.|\n",
    "|<code>Parch</code>|تعداد والدین/فرزندان مسافر در کشتی.|\n",
    "|<code>Ticket</code>|شماره بلیت مسافر.|\n",
    "|<code>Fare</code>|هزینه بلیت پرداخت شده.|\n",
    "|<code>Cabin</code>|شماره کابین (می‌تواند مقادیر گمشده داشته باشد).|\n",
    "|<code>Embarked</code>| بندر سوار شدن (C = Cherbourg، Q = Queenstown، S = Southampton).|\n",
    "    \n",
    "</font>\n",
    "</div>\n",
    "</center>"
   ]
  },
  {
   "cell_type": "markdown",
   "id": "3806626b",
   "metadata": {},
   "source": [
    "<div style=\"font-family: arial; direction: rtl;\">\n",
    "\n",
    "<h2 id=\"introduction\" style=\"color: #d42c06;\">تمرین صفر</h2>\n",
    "\n",
    "</div>"
   ]
  },
  {
   "cell_type": "markdown",
   "id": "f7f0a69f",
   "metadata": {},
   "source": [
    "<div style=\"direction: rtl; font-size: 1.1em; font-family: arial;\">\n",
    "<span>پکیچ های مورد نیاز را Import  کرده و دیتاست داده شده را بخوانید و 5 سطر اول آن را نمایش دهید.</span>\n",
    "<hr style=\"margin-top: 25px; border-color: #fff;\">\n",
    "</div>"
   ]
  },
  {
   "cell_type": "code",
   "execution_count": 14,
   "id": "d538d614",
   "metadata": {},
   "outputs": [],
   "source": []
  },
  {
   "cell_type": "code",
   "execution_count": null,
   "id": "70945fed",
   "metadata": {},
   "outputs": [],
   "source": []
  },
  {
   "cell_type": "markdown",
   "id": "42dc29a1",
   "metadata": {},
   "source": [
    "<div style=\"font-family: arial;\">\n",
    "\n",
    "<hr style=\"margin-top: 25px; border-color: #fff;\">\n",
    "\n",
    "<h2 style=\"text-align: center; color: #186e00;\">بخش 2: آماده سازی داده ها</h2>\n",
    "\n",
    "<hr style=\"margin-top: 25px; border-color: #fff;\">\n",
    "\n",
    "</div>"
   ]
  },
  {
   "cell_type": "markdown",
   "id": "8c55662f",
   "metadata": {},
   "source": [
    "<div style=\"font-family: arial; direction: rtl;\">\n",
    "    \n",
    "<h2 id=\"introduction\" style=\"color: #d42c06;\">تمرین اول</h2>\n",
    "\n",
    "</div>"
   ]
  },
  {
   "cell_type": "markdown",
   "id": "568c5030",
   "metadata": {},
   "source": [
    "<div style=\"direction: rtl; font-size: 1.1em; font-family: arial; \">\n",
    "<span>در دیتاست داده شده برخی از سطر های جدول در یک سری فیچر ها(عددی یا غیر عددی) مقدار آن‌ها برابر NaN میباشد برای برای حل این مشکل بهترین روش موجود را به کار ببرید.</span>\n",
    "<hr style=\"margin-top: 25px; border-color: #fff;\">\n",
    "</div>"
   ]
  },
  {
   "cell_type": "markdown",
   "id": "8958ae83",
   "metadata": {},
   "source": [
    "<div style=\"font-size: 1.1em; font-family: arial; direction: rtl; \">\n",
    "<div style=\"border: 2px solid #1f49a3; border-radius: 10px; padding: 10px; \">\n",
    "<h3 style=\"color: #1f49a3; font-weight: bold;\">نکته</h3>\n",
    "<span style=\"color: #1f49a3;\"> متود استفاده شده برای فیچر های عددی نسبت به فیچر های غیرعددی متفاوت است.</span>\n",
    "</div>\n",
    "</div>"
   ]
  },
  {
   "cell_type": "markdown",
   "id": "34e351e5",
   "metadata": {},
   "source": [
    "<div style=\"padding: 30px; padding-top: 0; padding-bottom: 0;\">\n",
    "\n",
    "<hr style=\"border-color: #fff;\">\n",
    "\n",
    "</div>"
   ]
  },
  {
   "cell_type": "code",
   "execution_count": null,
   "id": "1be9fda6",
   "metadata": {},
   "outputs": [],
   "source": []
  },
  {
   "cell_type": "markdown",
   "id": "5349b376",
   "metadata": {},
   "source": [
    "<div style=\"font-family: arial; direction: rtl;\">\n",
    "    \n",
    "<h2 id=\"introduction\" style=\"color: #d42c06;\">تمرین دوم</h2>\n",
    "\n",
    "</div>"
   ]
  },
  {
   "cell_type": "markdown",
   "id": "59277805",
   "metadata": {},
   "source": [
    "<div style=\"direction: rtl; font-size: 1.1em; font-family: arial; \">\n",
    "<span>ستون های غیر عددی را با روش های موجود به ستون های عددی تبدیل کنید(زیرا ما همیشه برای کار با مدل ها یا متود ها باید به صوردت عددی کار کنیم) و همچنین ستون های غیرضروری را حذف کنید.</span>\n",
    "<hr style=\"margin-top: 25px; border-color: #fff;\">\n",
    "</div>"
   ]
  },
  {
   "cell_type": "code",
   "execution_count": null,
   "id": "8fcecb9a",
   "metadata": {},
   "outputs": [],
   "source": [
    "from sklearn.preprocessing import TODO\n",
    "\n",
    "encoder = TODO\n",
    "\n",
    "########################################################\n",
    "\n",
    "TODO\n",
    "\n",
    "########################################################"
   ]
  },
  {
   "cell_type": "markdown",
   "id": "c8bdd846",
   "metadata": {},
   "source": [
    "<div style=\"font-family: arial; direction: rtl;\">\n",
    "    \n",
    "<h2 id=\"introduction\" style=\"color: #d42c06;\">تمرین سوم</h2>\n",
    "\n",
    "</div>"
   ]
  },
  {
   "cell_type": "markdown",
   "id": "eba0259d",
   "metadata": {},
   "source": [
    "<div style=\"direction: rtl; font-size: 1.1em; font-family: arial; \">\n",
    "<span>     داده ها را به دو بخش برای مجموعه های آموزشی و اعتبارسنجی تقسیم کنید (train,test)   </span>\n",
    "<hr style=\"margin-top: 25px; border-color: #fff;\">\n",
    "</div>"
   ]
  },
  {
   "cell_type": "code",
   "execution_count": null,
   "id": "e5cbf7a9",
   "metadata": {},
   "outputs": [],
   "source": [
    "from sklearn.model_selection import train_test_split\n",
    "#############################################\n",
    "TODO\n",
    "#############################################"
   ]
  },
  {
   "cell_type": "markdown",
   "id": "37dc8c26",
   "metadata": {},
   "source": [
    "<div style=\"font-family: arial; padding: 30px; padding-top: 15px; padding-bottom: 0;\">\n",
    "\n",
    "<hr style=\"margin-top: 25px; border-color: #fff;\">\n",
    "\n",
    "<h2 style=\"text-align: center; color: #186e00;\"> Decision Tree :بخش سوم  </h2>\n",
    "\n",
    "<hr style=\"margin-top: 25px; border-color: #fff;\">\n",
    "\n",
    "</div>"
   ]
  },
  {
   "cell_type": "markdown",
   "id": "d5067dcc",
   "metadata": {},
   "source": [
    "<div style=\"font-family: arial; direction: rtl;\">\n",
    "    \n",
    "<h2 id=\"introduction\" style=\"color: #d42c06;\">تمرین چهارم</h2>\n",
    "\n",
    "</div>"
   ]
  },
  {
   "cell_type": "markdown",
   "id": "f0c71e63",
   "metadata": {},
   "source": [
    "<div style=\"direction: rtl; font-size: 1.1em; font-family: arial; \">\n",
    "<span>        مقایسه جینی و انتروپی\n",
    "در این تمرین، هدف بررسی تاثیر معیارهای جینی و انتروپی در تقسیم گره‌های درخت تصمیم است. با پیاده‌سازی این معیارها و انتخاب هر کدام از آن‌ها برای یک مدل جداگانه، سپس از ماتریس درهم‌ریختگی و معیار F1 برای ارزیابی و مقایسه نتایج استفاده کنید.\n",
    "\n",
    " گام‌ها\n",
    "1. معیارهای `gini` و `entropy` را پیاده‌سازی کنید.\n",
    "2. دو درخت تصمیم بسازید: یکی با معیار جینی و دیگری با معیار انتروپی.\n",
    "3. پیش‌بینی مدل‌ها را با استفاده از ماتریس درهم‌ریختگی و F1 score مقایسه کنید.   \n",
    "</span>\n",
    "<hr style=\"margin-top: 25px; border-color: #fff;\">\n",
    "</div>"
   ]
  },
  {
   "cell_type": "code",
   "execution_count": null,
   "id": "aa934b8f",
   "metadata": {},
   "outputs": [],
   "source": [
    "import numpy as np\n",
    "\n",
    "def gini(y):\n",
    "    \"\"\"Compute Gini impurity.\"\"\"\n",
    "    # TODO: Implement the Gini impurity calculation      \n",
    "    pass\n",
    "\n",
    "def entropy(y):\n",
    "    \"\"\"Compute Entropy impurity.\"\"\"\n",
    "    # TODO: Implement the Entropy calculation\n",
    "    pass\n",
    "\n",
    "def best_split(X, y):\n",
    "    pass"
   ]
  },
  {
   "cell_type": "code",
   "execution_count": null,
   "id": "9fb7785b",
   "metadata": {},
   "outputs": [],
   "source": [
    "def build_tree(X, y, max_depth, depth=0):\n",
    "    if depth >= max_depth or len(np.unique(y)) == 1:\n",
    "        return np.bincount(y).argmax()\n",
    "\n",
    "    feature, threshold = best_split(X, y)\n",
    "    if feature is None:\n",
    "        return np.bincount(y).argmax()\n",
    "\n",
    "    left_mask = X[:, feature] < threshold\n",
    "    right_mask = ~left_mask\n",
    "    left_subtree = build_tree(X[left_mask], y[left_mask], max_depth, depth + 1)\n",
    "    right_subtree = build_tree(X[right_mask], y[right_mask], max_depth, depth + 1)\n",
    "\n",
    "    return {\"feature\": feature, \"threshold\": threshold, \"left\": left_subtree, \"right\": right_subtree}\n",
    "\n",
    "def predict_single(x, tree):\n",
    "    if not isinstance(tree, dict):\n",
    "        return tree\n",
    "    if x[tree[\"feature\"]] < tree[\"threshold\"]:\n",
    "        return predict_single(x, tree[\"left\"])\n",
    "    else:\n",
    "        return predict_single(x, tree[\"right\"])\n",
    "\n",
    "def predict(X, tree):\n",
    "    return [predict_single(x, tree) for x in X]"
   ]
  },
  {
   "cell_type": "markdown",
   "id": "731f85c5",
   "metadata": {},
   "source": [
    "<div style=\"font-family: arial; direction: rtl;\">\n",
    "    \n",
    "<h2 id=\"introduction\" style=\"color: #d42c06;\">تمرین پنجم</h2>\n",
    "\n",
    "</div>"
   ]
  },
  {
   "cell_type": "markdown",
   "id": "faae68ad",
   "metadata": {},
   "source": [
    "<div style=\"direction: rtl; font-size: 1.1em; font-family: arial; \">\n",
    "<span>   بررسی تاثیر حداکثر عمق درخت\n",
    "هدف این تمرین بررسی میزان اورفیتینگ و آندر فیتینگ با تغییر حداکثر عمق درخت تصمیم است.\n",
    "\n",
    "1. پارامتر `max_depth` را با مقادیر مختلف (مثلاً بین ۱ تا ۱۰) تنظیم کنید.\n",
    "2. هر بار مدل را روی داده‌های آموزشی آموزش داده و روی داده‌های تست ارزیابی کنید.\n",
    "3. با استفاده از متریک F1، کارایی هر مدل را مقایسه کنید و نتیجه‌گیری کنید که کدام عمق برای این داده‌ها بهینه است.\n",
    "4. نموداری از F1 Score بر حسب `max_depth` رسم کنید تا مشاهده کنید که در کدام عمق مدل اورفیت یا آندر فیت می‌شود.\n",
    "\n",
    "\n",
    "</span>\n",
    "<hr style=\"margin-top: 25px; border-color: #fff;\">\n",
    "</div>"
   ]
  },
  {
   "cell_type": "code",
   "execution_count": null,
   "id": "118cb1f5",
   "metadata": {},
   "outputs": [],
   "source": [
    "############################################\n",
    "\n",
    "\n",
    "TODO\n",
    "\n",
    "############################################"
   ]
  }
 ],
 "metadata": {
  "kernelspec": {
   "display_name": "Python 3 (ipykernel)",
   "language": "python",
   "name": "python3"
  },
  "language_info": {
   "codemirror_mode": {
    "name": "ipython",
    "version": 3
   },
   "file_extension": ".py",
   "mimetype": "text/x-python",
   "name": "python",
   "nbconvert_exporter": "python",
   "pygments_lexer": "ipython3",
   "version": "3.12.4"
  },
  "vscode": {
   "interpreter": {
    "hash": "40d3a090f54c6569ab1632332b64b2c03c39dcf918b08424e98f38b5ae0af88f"
   }
  }
 },
 "nbformat": 4,
 "nbformat_minor": 5
}
